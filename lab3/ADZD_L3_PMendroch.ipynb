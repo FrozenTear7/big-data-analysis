{
 "cells": [
  {
   "cell_type": "markdown",
   "metadata": {},
   "source": [
    "# ADZD Lab 2 DataFrame\n",
    "## Autor: Paweł Mendroch"
   ]
  },
  {
   "cell_type": "markdown",
   "metadata": {},
   "source": [
    "### Importy, biblioteki i inicjalizacja"
   ]
  },
  {
   "cell_type": "code",
   "execution_count": 1,
   "metadata": {},
   "outputs": [
    {
     "data": {
      "application/vnd.jupyter.widget-view+json": {
       "model_id": "b2522d0a22af4f64926ef86bb17fe090",
       "version_major": 2,
       "version_minor": 0
      },
      "text/plain": [
       "VBox()"
      ]
     },
     "metadata": {},
     "output_type": "display_data"
    },
    {
     "name": "stdout",
     "output_type": "stream",
     "text": [
      "Starting Spark application\n"
     ]
    },
    {
     "data": {
      "text/html": [
       "<table>\n",
       "<tr><th>ID</th><th>YARN Application ID</th><th>Kind</th><th>State</th><th>Spark UI</th><th>Driver log</th><th>Current session?</th></tr><tr><td>1</td><td>application_1604845242699_0002</td><td>pyspark</td><td>idle</td><td><a target=\"_blank\" href=\"http://ip-172-31-16-218.eu-west-1.compute.internal:20888/proxy/application_1604845242699_0002/\">Link</a></td><td><a target=\"_blank\" href=\"http://ip-172-31-17-254.eu-west-1.compute.internal:8042/node/containerlogs/container_1604845242699_0002_01_000001/livy\">Link</a></td><td>✔</td></tr></table>"
      ],
      "text/plain": [
       "<IPython.core.display.HTML object>"
      ]
     },
     "metadata": {},
     "output_type": "display_data"
    },
    {
     "data": {
      "application/vnd.jupyter.widget-view+json": {
       "model_id": "",
       "version_major": 2,
       "version_minor": 0
      },
      "text/plain": [
       "FloatProgress(value=0.0, bar_style='info', description='Progress:', layout=Layout(height='25px', width='50%'),…"
      ]
     },
     "metadata": {},
     "output_type": "display_data"
    },
    {
     "name": "stdout",
     "output_type": "stream",
     "text": [
      "SparkSession available as 'spark'.\n"
     ]
    },
    {
     "data": {
      "application/vnd.jupyter.widget-view+json": {
       "model_id": "",
       "version_major": 2,
       "version_minor": 0
      },
      "text/plain": [
       "FloatProgress(value=0.0, bar_style='info', description='Progress:', layout=Layout(height='25px', width='50%'),…"
      ]
     },
     "metadata": {},
     "output_type": "display_data"
    }
   ],
   "source": [
    "from pyspark.sql import SparkSession\n",
    "from pyspark.conf import SparkConf\n",
    "spark = SparkSession.builder.getOrCreate()"
   ]
  },
  {
   "cell_type": "code",
   "execution_count": 2,
   "metadata": {},
   "outputs": [
    {
     "data": {
      "application/vnd.jupyter.widget-view+json": {
       "model_id": "72006965a9494ed6b2026cd195cd6ce4",
       "version_major": 2,
       "version_minor": 0
      },
      "text/plain": [
       "VBox()"
      ]
     },
     "metadata": {},
     "output_type": "display_data"
    },
    {
     "data": {
      "application/vnd.jupyter.widget-view+json": {
       "model_id": "",
       "version_major": 2,
       "version_minor": 0
      },
      "text/plain": [
       "FloatProgress(value=0.0, bar_style='info', description='Progress:', layout=Layout(height='25px', width='50%'),…"
      ]
     },
     "metadata": {},
     "output_type": "display_data"
    },
    {
     "name": "stdout",
     "output_type": "stream",
     "text": [
      "Collecting pandas\n",
      "  Using cached https://files.pythonhosted.org/packages/bf/4c/cb7da76f3a5e077e545f9cf8575b8f488a4e8ad60490838f89c5cdd5bb57/pandas-1.1.4-cp37-cp37m-manylinux1_x86_64.whl\n",
      "Requirement already satisfied: numpy>=1.15.4 in /usr/local/lib64/python3.7/site-packages (from pandas)\n",
      "Requirement already satisfied: pytz>=2017.2 in /usr/local/lib/python3.7/site-packages (from pandas)\n",
      "Collecting python-dateutil>=2.7.3 (from pandas)\n",
      "  Using cached https://files.pythonhosted.org/packages/d4/70/d60450c3dd48ef87586924207ae8907090de0b306af2bce5d134d78615cb/python_dateutil-2.8.1-py2.py3-none-any.whl\n",
      "Requirement already satisfied: six>=1.5 in /usr/local/lib/python3.7/site-packages (from python-dateutil>=2.7.3->pandas)\n",
      "Installing collected packages: python-dateutil, pandas\n",
      "Successfully installed pandas-1.1.4 python-dateutil-2.8.1\n",
      "\n",
      "Collecting kiwisolver==1.2.0\n",
      "  Using cached https://files.pythonhosted.org/packages/31/b9/6202dcae729998a0ade30e80ac00f616542ef445b088ec970d407dfd41c0/kiwisolver-1.2.0-cp37-cp37m-manylinux1_x86_64.whl\n",
      "Installing collected packages: kiwisolver\n",
      "Successfully installed kiwisolver-1.2.0\n",
      "\n",
      "Collecting matplotlib\n",
      "  Using cached https://files.pythonhosted.org/packages/87/a6/8d7d06f6b69236a3c1818157875ceb1259ba0d9df4194f4fe138ffdc0f41/matplotlib-3.3.2-cp37-cp37m-manylinux1_x86_64.whl\n",
      "Collecting certifi>=2020.06.20 (from matplotlib)\n",
      "  Using cached https://files.pythonhosted.org/packages/5e/c4/6c4fe722df5343c33226f0b4e0bb042e4dc13483228b4718baf286f86d87/certifi-2020.6.20-py2.py3-none-any.whl\n",
      "Requirement already satisfied: numpy>=1.15 in /usr/local/lib64/python3.7/site-packages (from matplotlib)\n",
      "Requirement already satisfied: python-dateutil>=2.1 in /mnt/tmp/1604847384467-0/lib/python3.7/site-packages (from matplotlib)\n",
      "Collecting pyparsing!=2.0.4,!=2.1.2,!=2.1.6,>=2.0.3 (from matplotlib)\n",
      "  Using cached https://files.pythonhosted.org/packages/8a/bb/488841f56197b13700afd5658fc279a2025a39e22449b7cf29864669b15d/pyparsing-2.4.7-py2.py3-none-any.whl\n",
      "Collecting pillow>=6.2.0 (from matplotlib)\n",
      "  Using cached https://files.pythonhosted.org/packages/af/fa/c1302a26d5e1a17fa8e10e43417b6cf038b0648c4b79fcf2302a4a0c5d30/Pillow-8.0.1-cp37-cp37m-manylinux1_x86_64.whl\n",
      "Collecting cycler>=0.10 (from matplotlib)\n",
      "  Using cached https://files.pythonhosted.org/packages/f7/d2/e07d3ebb2bd7af696440ce7e754c59dd546ffe1bbe732c8ab68b9c834e61/cycler-0.10.0-py2.py3-none-any.whl\n",
      "Requirement already satisfied: kiwisolver>=1.0.1 in /mnt/tmp/1604847384467-0/lib/python3.7/site-packages (from matplotlib)\n",
      "Requirement already satisfied: six>=1.5 in /usr/local/lib/python3.7/site-packages (from python-dateutil>=2.1->matplotlib)\n",
      "Installing collected packages: certifi, pyparsing, pillow, cycler, matplotlib\n",
      "Successfully installed certifi-2020.6.20 cycler-0.10.0 matplotlib-3.3.2 pillow-8.0.1 pyparsing-2.4.7"
     ]
    }
   ],
   "source": [
    "sc.install_pypi_package(\"pandas\")\n",
    "sc.install_pypi_package(\"kiwisolver==1.2.0\")\n",
    "sc.install_pypi_package(\"matplotlib\")"
   ]
  },
  {
   "cell_type": "code",
   "execution_count": 3,
   "metadata": {},
   "outputs": [
    {
     "data": {
      "application/vnd.jupyter.widget-view+json": {
       "model_id": "30ad3dcff382409780877a08282c10a9",
       "version_major": 2,
       "version_minor": 0
      },
      "text/plain": [
       "VBox()"
      ]
     },
     "metadata": {},
     "output_type": "display_data"
    },
    {
     "data": {
      "application/vnd.jupyter.widget-view+json": {
       "model_id": "",
       "version_major": 2,
       "version_minor": 0
      },
      "text/plain": [
       "FloatProgress(value=0.0, bar_style='info', description='Progress:', layout=Layout(height='25px', width='50%'),…"
      ]
     },
     "metadata": {},
     "output_type": "display_data"
    }
   ],
   "source": [
    "from pyspark.sql.functions import col, asc, desc, max, sum, avg, to_timestamp, date_format, dayofmonth, count"
   ]
  },
  {
   "cell_type": "code",
   "execution_count": 4,
   "metadata": {},
   "outputs": [
    {
     "data": {
      "application/vnd.jupyter.widget-view+json": {
       "model_id": "a4cbd24895334c84ba4760184ef000fc",
       "version_major": 2,
       "version_minor": 0
      },
      "text/plain": [
       "VBox()"
      ]
     },
     "metadata": {},
     "output_type": "display_data"
    },
    {
     "data": {
      "application/vnd.jupyter.widget-view+json": {
       "model_id": "",
       "version_major": 2,
       "version_minor": 0
      },
      "text/plain": [
       "FloatProgress(value=0.0, bar_style='info', description='Progress:', layout=Layout(height='25px', width='50%'),…"
      ]
     },
     "metadata": {},
     "output_type": "display_data"
    }
   ],
   "source": [
    "import matplotlib.pyplot as plt"
   ]
  },
  {
   "cell_type": "markdown",
   "metadata": {},
   "source": [
    "### Import danych dla 28 października 2020"
   ]
  },
  {
   "cell_type": "code",
   "execution_count": 5,
   "metadata": {},
   "outputs": [
    {
     "data": {
      "application/vnd.jupyter.widget-view+json": {
       "model_id": "62f4b16f52f542f0bfcc48ab83492b11",
       "version_major": 2,
       "version_minor": 0
      },
      "text/plain": [
       "VBox()"
      ]
     },
     "metadata": {},
     "output_type": "display_data"
    },
    {
     "data": {
      "application/vnd.jupyter.widget-view+json": {
       "model_id": "",
       "version_major": 2,
       "version_minor": 0
      },
      "text/plain": [
       "FloatProgress(value=0.0, bar_style='info', description='Progress:', layout=Layout(height='25px', width='50%'),…"
      ]
     },
     "metadata": {},
     "output_type": "display_data"
    }
   ],
   "source": [
    "smog_day_df = spark.read.json(\"s3a://openaq-fetches/realtime/2020-10-28/*\")"
   ]
  },
  {
   "cell_type": "code",
   "execution_count": 20,
   "metadata": {},
   "outputs": [
    {
     "data": {
      "application/vnd.jupyter.widget-view+json": {
       "model_id": "02dfaad1e8b147f0910b67dcc70e1102",
       "version_major": 2,
       "version_minor": 0
      },
      "text/plain": [
       "VBox()"
      ]
     },
     "metadata": {},
     "output_type": "display_data"
    },
    {
     "data": {
      "application/vnd.jupyter.widget-view+json": {
       "model_id": "",
       "version_major": 2,
       "version_minor": 0
      },
      "text/plain": [
       "FloatProgress(value=0.0, bar_style='info', description='Progress:', layout=Layout(height='25px', width='50%'),…"
      ]
     },
     "metadata": {},
     "output_type": "display_data"
    }
   ],
   "source": [
    "smog_month_df = spark.read.json(\"s3a://openaq-fetches/realtime/2020-10*\")"
   ]
  },
  {
   "cell_type": "code",
   "execution_count": 6,
   "metadata": {},
   "outputs": [
    {
     "data": {
      "application/vnd.jupyter.widget-view+json": {
       "model_id": "b770b7086cff4703ba28819932cc5fdf",
       "version_major": 2,
       "version_minor": 0
      },
      "text/plain": [
       "VBox()"
      ]
     },
     "metadata": {},
     "output_type": "display_data"
    },
    {
     "data": {
      "application/vnd.jupyter.widget-view+json": {
       "model_id": "",
       "version_major": 2,
       "version_minor": 0
      },
      "text/plain": [
       "FloatProgress(value=0.0, bar_style='info', description='Progress:', layout=Layout(height='25px', width='50%'),…"
      ]
     },
     "metadata": {},
     "output_type": "display_data"
    },
    {
     "name": "stdout",
     "output_type": "stream",
     "text": [
      "root\n",
      " |-- attribution: array (nullable = true)\n",
      " |    |-- element: struct (containsNull = true)\n",
      " |    |    |-- name: string (nullable = true)\n",
      " |    |    |-- url: string (nullable = true)\n",
      " |-- averagingPeriod: struct (nullable = true)\n",
      " |    |-- unit: string (nullable = true)\n",
      " |    |-- value: double (nullable = true)\n",
      " |-- city: string (nullable = true)\n",
      " |-- coordinates: struct (nullable = true)\n",
      " |    |-- latitude: double (nullable = true)\n",
      " |    |-- longitude: double (nullable = true)\n",
      " |-- country: string (nullable = true)\n",
      " |-- date: struct (nullable = true)\n",
      " |    |-- local: string (nullable = true)\n",
      " |    |-- utc: string (nullable = true)\n",
      " |-- location: string (nullable = true)\n",
      " |-- mobile: boolean (nullable = true)\n",
      " |-- parameter: string (nullable = true)\n",
      " |-- sourceName: string (nullable = true)\n",
      " |-- sourceType: string (nullable = true)\n",
      " |-- unit: string (nullable = true)\n",
      " |-- value: double (nullable = true)"
     ]
    }
   ],
   "source": [
    "smog_day_df.printSchema()"
   ]
  },
  {
   "cell_type": "code",
   "execution_count": 21,
   "metadata": {},
   "outputs": [
    {
     "data": {
      "application/vnd.jupyter.widget-view+json": {
       "model_id": "e894621b6e614dbba21f2e37ebc30cce",
       "version_major": 2,
       "version_minor": 0
      },
      "text/plain": [
       "VBox()"
      ]
     },
     "metadata": {},
     "output_type": "display_data"
    },
    {
     "data": {
      "application/vnd.jupyter.widget-view+json": {
       "model_id": "",
       "version_major": 2,
       "version_minor": 0
      },
      "text/plain": [
       "FloatProgress(value=0.0, bar_style='info', description='Progress:', layout=Layout(height='25px', width='50%'),…"
      ]
     },
     "metadata": {},
     "output_type": "display_data"
    },
    {
     "name": "stdout",
     "output_type": "stream",
     "text": [
      "root\n",
      " |-- attribution: array (nullable = true)\n",
      " |    |-- element: struct (containsNull = true)\n",
      " |    |    |-- name: string (nullable = true)\n",
      " |    |    |-- url: string (nullable = true)\n",
      " |-- averagingPeriod: struct (nullable = true)\n",
      " |    |-- unit: string (nullable = true)\n",
      " |    |-- value: double (nullable = true)\n",
      " |-- city: string (nullable = true)\n",
      " |-- coordinates: struct (nullable = true)\n",
      " |    |-- latitude: double (nullable = true)\n",
      " |    |-- longitude: double (nullable = true)\n",
      " |-- country: string (nullable = true)\n",
      " |-- date: struct (nullable = true)\n",
      " |    |-- local: string (nullable = true)\n",
      " |    |-- utc: string (nullable = true)\n",
      " |-- location: string (nullable = true)\n",
      " |-- mobile: boolean (nullable = true)\n",
      " |-- parameter: string (nullable = true)\n",
      " |-- sourceName: string (nullable = true)\n",
      " |-- sourceType: string (nullable = true)\n",
      " |-- unit: string (nullable = true)\n",
      " |-- value: double (nullable = true)"
     ]
    }
   ],
   "source": [
    "smog_month_df.printSchema()"
   ]
  },
  {
   "cell_type": "markdown",
   "metadata": {},
   "source": [
    "### 1. Znaleźć miasto, w którym najniższe zanieczyszczenie w danym okresie jest największe spośród wszystkich miast"
   ]
  },
  {
   "cell_type": "code",
   "execution_count": 52,
   "metadata": {},
   "outputs": [
    {
     "data": {
      "application/vnd.jupyter.widget-view+json": {
       "model_id": "0475d9bfe2874689a26553ac14425681",
       "version_major": 2,
       "version_minor": 0
      },
      "text/plain": [
       "VBox()"
      ]
     },
     "metadata": {},
     "output_type": "display_data"
    },
    {
     "data": {
      "application/vnd.jupyter.widget-view+json": {
       "model_id": "",
       "version_major": 2,
       "version_minor": 0
      },
      "text/plain": [
       "FloatProgress(value=0.0, bar_style='info', description='Progress:', layout=Layout(height='25px', width='50%'),…"
      ]
     },
     "metadata": {},
     "output_type": "display_data"
    },
    {
     "name": "stdout",
     "output_type": "stream",
     "text": [
      "Row(city='Zielonka', max smog=8.59)"
     ]
    }
   ],
   "source": [
    "smog_day_min_df = smog_day_df \\\n",
    "    .select(col(\"parameter\"), col(\"value\")) \\\n",
    "    .filter((col(\"country\") == \"PL\")) \\\n",
    "    .groupBy(col(\"parameter\")) \\\n",
    "    .agg(sum(col(\"value\")).alias(\"min smog\")) \\\n",
    "    .sort(col(\"min smog\").asc()) \\\n",
    "    .first()\n",
    "\n",
    "smog_day_df \\\n",
    "    .select(col(\"city\"), col(\"value\")) \\\n",
    "    .filter((col(\"country\") == \"PL\") & (col(\"parameter\") == smog_day_min_df.parameter)) \\\n",
    "    .groupBy(col(\"city\")) \\\n",
    "    .agg(max(col(\"value\")).alias(\"max smog\")) \\\n",
    "    .sort(col(\"max smog\").desc()) \\\n",
    "    .first()"
   ]
  },
  {
   "cell_type": "markdown",
   "metadata": {},
   "source": [
    "### 2. Ranking miast pod względem liczby dni w roku, w których poziom zanieczyszczeń jest wyższy niż zadany próg"
   ]
  },
  {
   "cell_type": "code",
   "execution_count": 26,
   "metadata": {},
   "outputs": [
    {
     "data": {
      "application/vnd.jupyter.widget-view+json": {
       "model_id": "f6de6e1f1b514c5da69a7fab4ca07df9",
       "version_major": 2,
       "version_minor": 0
      },
      "text/plain": [
       "VBox()"
      ]
     },
     "metadata": {},
     "output_type": "display_data"
    },
    {
     "data": {
      "application/vnd.jupyter.widget-view+json": {
       "model_id": "",
       "version_major": 2,
       "version_minor": 0
      },
      "text/plain": [
       "FloatProgress(value=0.0, bar_style='info', description='Progress:', layout=Layout(height='25px', width='50%'),…"
      ]
     },
     "metadata": {},
     "output_type": "display_data"
    },
    {
     "name": "stdout",
     "output_type": "stream",
     "text": [
      "    city  n of days\n",
      "0   三门峡市         31\n",
      "1   Lima         31\n",
      "2    沈阳市         31\n",
      "3    大连市         31\n",
      "4    宜春市         31\n",
      "5    深圳市         31\n",
      "6    上海市         31\n",
      "7    岳阳市         31\n",
      "8   攀枝花市         31\n",
      "9   马鞍山市         31\n",
      "10   阳泉市         31\n",
      "11   朝阳市         31\n",
      "12  景德镇市         31\n",
      "13   武汉市         31\n",
      "14   凉山州         31\n",
      "15   惠州市         31\n",
      "16   株洲市         31\n",
      "17   南通市         31\n",
      "18   长春市         31\n",
      "19   保定市         31"
     ]
    }
   ],
   "source": [
    "smog_threshold = 1e+05\n",
    "\n",
    "smog_month_grouped_df = smog_month_df \\\n",
    "    .select(col(\"city\"), col(\"date.utc\"), dayofmonth(to_timestamp(col(\"date.utc\"))).alias(\"day\"), col(\"value\")) \\\n",
    "    .groupBy(col(\"city\"), col(\"day\")) \\\n",
    "    .agg(sum(col(\"value\")).alias(\"sum smog\")) \\\n",
    "    .where((col(\"sum smog\") > smog_threshold)) \\\n",
    "    .sort(col(\"sum smog\").desc())\n",
    "\n",
    "smog_month_grouped_df \\\n",
    "    .select(col(\"city\"), col(\"day\")) \\\n",
    "    .groupBy(col(\"city\")) \\\n",
    "    .agg(count(col(\"day\")).alias(\"n of days\")) \\\n",
    "    .sort(col(\"n of days\").desc()) \\\n",
    "    .limit(20) \\\n",
    "    .toPandas()"
   ]
  },
  {
   "cell_type": "markdown",
   "metadata": {},
   "source": [
    "### 3. Ranking krajów pod względem średniego zanieczyszczenia"
   ]
  },
  {
   "cell_type": "code",
   "execution_count": 10,
   "metadata": {},
   "outputs": [
    {
     "data": {
      "application/vnd.jupyter.widget-view+json": {
       "model_id": "f58bd74f80ae4503bbdb5bb897efcb65",
       "version_major": 2,
       "version_minor": 0
      },
      "text/plain": [
       "VBox()"
      ]
     },
     "metadata": {},
     "output_type": "display_data"
    },
    {
     "data": {
      "application/vnd.jupyter.widget-view+json": {
       "model_id": "",
       "version_major": 2,
       "version_minor": 0
      },
      "text/plain": [
       "FloatProgress(value=0.0, bar_style='info', description='Progress:', layout=Layout(height='25px', width='50%'),…"
      ]
     },
     "metadata": {},
     "output_type": "display_data"
    },
    {
     "name": "stdout",
     "output_type": "stream",
     "text": [
      "   country    avg smog\n",
      "0       IN  116.060574\n",
      "1       PK   98.241224\n",
      "2       TI   79.695652\n",
      "3       TJ   78.630556\n",
      "4       BD   74.070652\n",
      "5       BH   68.203598\n",
      "6       KU   65.648649\n",
      "7       ML   65.361111\n",
      "8       AF   59.432618\n",
      "9       IZ   56.518919\n",
      "10      IQ   50.589216\n",
      "11      SU   43.068966\n",
      "12      JO   40.547337\n",
      "13      BK   39.245614\n",
      "14      VN   36.666667\n",
      "15      KV   36.421053\n",
      "16      MX   36.395242\n",
      "17      CN   35.499767\n",
      "18      MK   34.507581\n",
      "19      SA   34.125000"
     ]
    }
   ],
   "source": [
    "smog_day_df \\\n",
    "    .select(col(\"country\"), col(\"value\")) \\\n",
    "    .filter(col(\"parameter\") == \"pm25\") \\\n",
    "    .groupBy(col(\"country\")) \\\n",
    "    .agg(avg(col(\"value\")).alias(\"avg smog\")) \\\n",
    "    .sort(col(\"avg smog\").desc()) \\\n",
    "    .limit(20) \\\n",
    "    .toPandas()"
   ]
  },
  {
   "cell_type": "markdown",
   "metadata": {},
   "source": [
    "### 4. Średnie zanieczyszczenie w miastach: na wykresie/mapie"
   ]
  },
  {
   "cell_type": "code",
   "execution_count": 23,
   "metadata": {},
   "outputs": [
    {
     "data": {
      "application/vnd.jupyter.widget-view+json": {
       "model_id": "7a60882e8c554716b04180da8041665a",
       "version_major": 2,
       "version_minor": 0
      },
      "text/plain": [
       "VBox()"
      ]
     },
     "metadata": {},
     "output_type": "display_data"
    },
    {
     "data": {
      "application/vnd.jupyter.widget-view+json": {
       "model_id": "",
       "version_major": 2,
       "version_minor": 0
      },
      "text/plain": [
       "FloatProgress(value=0.0, bar_style='info', description='Progress:', layout=Layout(height='25px', width='50%'),…"
      ]
     },
     "metadata": {},
     "output_type": "display_data"
    },
    {
     "data": {
      "image/png": "[encoded data removed]",
      "text/plain": [
       "<IPython.core.display.Image object>"
      ]
     },
     "metadata": {},
     "output_type": "display_data"
    }
   ],
   "source": [
    "smog_day_df \\\n",
    "    .select(col(\"city\"), col(\"value\")) \\\n",
    "    .filter(col(\"parameter\") == \"pm25\") \\\n",
    "    .groupBy(col(\"city\")) \\\n",
    "    .agg(avg(col(\"value\")).alias(\"avg smog\")) \\\n",
    "    .sort(col(\"avg smog\").desc()) \\\n",
    "    .limit(20) \\\n",
    "    .toPandas() \\\n",
    "    .plot.barh(x = \"city\")\n",
    "\n",
    "%matplot plt"
   ]
  },
  {
   "cell_type": "markdown",
   "metadata": {},
   "source": [
    "### 5. Korzystanie z klastra dla dużych danych"
   ]
  },
  {
   "cell_type": "markdown",
   "metadata": {},
   "source": [
    "#### 5.1. Proszę wykonać zadanie 1 dla danych z całego miesiąca. Zmierzyć czas wykonania."
   ]
  },
  {
   "cell_type": "code",
   "execution_count": 86,
   "metadata": {},
   "outputs": [
    {
     "data": {
      "application/vnd.jupyter.widget-view+json": {
       "model_id": "f6433060fa604d71adb3bdb33e5768cc",
       "version_major": 2,
       "version_minor": 0
      },
      "text/plain": [
       "VBox()"
      ]
     },
     "metadata": {},
     "output_type": "display_data"
    },
    {
     "data": {
      "application/vnd.jupyter.widget-view+json": {
       "model_id": "",
       "version_major": 2,
       "version_minor": 0
      },
      "text/plain": [
       "FloatProgress(value=0.0, bar_style='info', description='Progress:', layout=Layout(height='25px', width='50%'),…"
      ]
     },
     "metadata": {},
     "output_type": "display_data"
    },
    {
     "name": "stdout",
     "output_type": "stream",
     "text": [
      "Row(city='Przemyśl', max smog=325.079)"
     ]
    }
   ],
   "source": [
    "smog_month_min_df = smog_month_df \\\n",
    "    .select(col(\"parameter\"), col(\"value\")) \\\n",
    "    .filter((col(\"country\") == \"PL\")) \\\n",
    "    .groupBy(col(\"parameter\")) \\\n",
    "    .agg(sum(col(\"value\")).alias(\"min smog\")) \\\n",
    "    .sort(col(\"min smog\").asc()) \\\n",
    "    .first()\n",
    "\n",
    "smog_month_df \\\n",
    "    .select(col(\"city\"), col(\"value\")) \\\n",
    "    .filter((col(\"country\") == \"PL\") & (col(\"parameter\") == smog_month_min_df.parameter)) \\\n",
    "    .groupBy(col(\"city\")) \\\n",
    "    .agg(max(col(\"value\")).alias(\"max smog\")) \\\n",
    "    .sort(col(\"max smog\").desc()) \\\n",
    "    .first()"
   ]
  },
  {
   "cell_type": "markdown",
   "metadata": {},
   "source": [
    "#### 5.2. Zwiększyć klaster do 2, 3, 4, 5, 6, 7 instancji workerów i zmierzyć czasy wykonania."
   ]
  },
  {
   "cell_type": "markdown",
   "metadata": {},
   "source": [
    "| 1 workers | 2 workers | 3 workers | 4 workers | 5 workers | 6 workers | 7 workers |\n",
    "| :-: | :-: | :-: | :-: | :-: | :-: | :-: |\n",
    "| 491.139s | 234.247s | 187.773s | 138.601s | 122.204s | 99.532s | 95.019s |"
   ]
  },
  {
   "cell_type": "markdown",
   "metadata": {},
   "source": [
    "#### 5.3. Narysować wykresy czasu, przyspieszenia i efektywności (time, speedup, efficiency)."
   ]
  },
  {
   "cell_type": "code",
   "execution_count": 68,
   "metadata": {},
   "outputs": [
    {
     "data": {
      "application/vnd.jupyter.widget-view+json": {
       "model_id": "c92c2738a3544c83a5db10d9c732ffa2",
       "version_major": 2,
       "version_minor": 0
      },
      "text/plain": [
       "VBox()"
      ]
     },
     "metadata": {},
     "output_type": "display_data"
    },
    {
     "data": {
      "application/vnd.jupyter.widget-view+json": {
       "model_id": "",
       "version_major": 2,
       "version_minor": 0
      },
      "text/plain": [
       "FloatProgress(value=0.0, bar_style='info', description='Progress:', layout=Layout(height='25px', width='50%'),…"
      ]
     },
     "metadata": {},
     "output_type": "display_data"
    }
   ],
   "source": [
    "import pandas as pd\n",
    "pd.set_option('display.max_colwidth', None)\n",
    "pd.set_option('display.max_columns', None)\n",
    "pd.set_option('display.width', 10000)"
   ]
  },
  {
   "cell_type": "code",
   "execution_count": 94,
   "metadata": {},
   "outputs": [
    {
     "data": {
      "application/vnd.jupyter.widget-view+json": {
       "model_id": "d23f5900c8404f27befc56830d3b501e",
       "version_major": 2,
       "version_minor": 0
      },
      "text/plain": [
       "VBox()"
      ]
     },
     "metadata": {},
     "output_type": "display_data"
    },
    {
     "data": {
      "application/vnd.jupyter.widget-view+json": {
       "model_id": "",
       "version_major": 2,
       "version_minor": 0
      },
      "text/plain": [
       "FloatProgress(value=0.0, bar_style='info', description='Progress:', layout=Layout(height='25px', width='50%'),…"
      ]
     },
     "metadata": {},
     "output_type": "display_data"
    }
   ],
   "source": [
    "time_array = [491.139, 234.247, 187.773, 138.601, 122.204, 99.532, 95.019]\n",
    "speedup_array = list(map(lambda x: time_array[0] / x, time_array))\n",
    "efficiency_array = [speedup_array[i] / (i + 1) for i in range(len(time_array))]\n",
    "\n",
    "time_df = pd.DataFrame((time_array), \\\n",
    "                  index=[\"1 worker\", \"2 workers\", \"3 workers\", \"4 workers\", \"5 workers\", \"6 workers\", \"7 workers\"], \\\n",
    "                  columns=[\"Time\"])\n",
    "\n",
    "speedup_df = pd.DataFrame((speedup_array), \\\n",
    "                  index=[\"1 worker\", \"2 workers\", \"3 workers\", \"4 workers\", \"5 workers\", \"6 workers\", \"7 workers\"], \\\n",
    "                  columns=[\"Speedup\"])\n",
    "\n",
    "efficiency_df = pd.DataFrame((efficiency_array), \\\n",
    "                  index=[\"1 worker\", \"2 workers\", \"3 workers\", \"4 workers\", \"5 workers\", \"6 workers\", \"7 workers\"], \\\n",
    "                  columns=[\"Efficiency\"])"
   ]
  },
  {
   "cell_type": "code",
   "execution_count": 95,
   "metadata": {},
   "outputs": [
    {
     "data": {
      "application/vnd.jupyter.widget-view+json": {
       "model_id": "4bf0f27cda144b78a1fdbbb51c1245c4",
       "version_major": 2,
       "version_minor": 0
      },
      "text/plain": [
       "VBox()"
      ]
     },
     "metadata": {},
     "output_type": "display_data"
    },
    {
     "data": {
      "application/vnd.jupyter.widget-view+json": {
       "model_id": "",
       "version_major": 2,
       "version_minor": 0
      },
      "text/plain": [
       "FloatProgress(value=0.0, bar_style='info', description='Progress:', layout=Layout(height='25px', width='50%'),…"
      ]
     },
     "metadata": {},
     "output_type": "display_data"
    },
    {
     "name": "stdout",
     "output_type": "stream",
     "text": [
      "              Time\n",
      "1 worker   491.139\n",
      "2 workers  234.247\n",
      "3 workers  187.773\n",
      "4 workers  138.601\n",
      "5 workers  122.204\n",
      "6 workers   99.532\n",
      "7 workers   95.019"
     ]
    }
   ],
   "source": [
    "time_df"
   ]
  },
  {
   "cell_type": "code",
   "execution_count": 96,
   "metadata": {},
   "outputs": [
    {
     "data": {
      "application/vnd.jupyter.widget-view+json": {
       "model_id": "e779efc745d34bbf86e9b602cc801c80",
       "version_major": 2,
       "version_minor": 0
      },
      "text/plain": [
       "VBox()"
      ]
     },
     "metadata": {},
     "output_type": "display_data"
    },
    {
     "data": {
      "application/vnd.jupyter.widget-view+json": {
       "model_id": "",
       "version_major": 2,
       "version_minor": 0
      },
      "text/plain": [
       "FloatProgress(value=0.0, bar_style='info', description='Progress:', layout=Layout(height='25px', width='50%'),…"
      ]
     },
     "metadata": {},
     "output_type": "display_data"
    },
    {
     "name": "stdout",
     "output_type": "stream",
     "text": [
      "            Speedup\n",
      "1 worker   1.000000\n",
      "2 workers  2.096671\n",
      "3 workers  2.615600\n",
      "4 workers  3.543546\n",
      "5 workers  4.019009\n",
      "6 workers  4.934483\n",
      "7 workers  5.168850"
     ]
    }
   ],
   "source": [
    "speedup_df"
   ]
  },
  {
   "cell_type": "code",
   "execution_count": 97,
   "metadata": {},
   "outputs": [
    {
     "data": {
      "application/vnd.jupyter.widget-view+json": {
       "model_id": "365a0888696548b7b5733083e39c3545",
       "version_major": 2,
       "version_minor": 0
      },
      "text/plain": [
       "VBox()"
      ]
     },
     "metadata": {},
     "output_type": "display_data"
    },
    {
     "data": {
      "application/vnd.jupyter.widget-view+json": {
       "model_id": "",
       "version_major": 2,
       "version_minor": 0
      },
      "text/plain": [
       "FloatProgress(value=0.0, bar_style='info', description='Progress:', layout=Layout(height='25px', width='50%'),…"
      ]
     },
     "metadata": {},
     "output_type": "display_data"
    },
    {
     "name": "stdout",
     "output_type": "stream",
     "text": [
      "           Efficiency\n",
      "1 worker     1.000000\n",
      "2 workers    1.048336\n",
      "3 workers    0.871867\n",
      "4 workers    0.885886\n",
      "5 workers    0.803802\n",
      "6 workers    0.822414\n",
      "7 workers    0.738407"
     ]
    }
   ],
   "source": [
    "efficiency_df"
   ]
  },
  {
   "cell_type": "code",
   "execution_count": 98,
   "metadata": {},
   "outputs": [
    {
     "data": {
      "application/vnd.jupyter.widget-view+json": {
       "model_id": "84ee38869650418c83b67bcbd18e4ae5",
       "version_major": 2,
       "version_minor": 0
      },
      "text/plain": [
       "VBox()"
      ]
     },
     "metadata": {},
     "output_type": "display_data"
    },
    {
     "data": {
      "application/vnd.jupyter.widget-view+json": {
       "model_id": "",
       "version_major": 2,
       "version_minor": 0
      },
      "text/plain": [
       "FloatProgress(value=0.0, bar_style='info', description='Progress:', layout=Layout(height='25px', width='50%'),…"
      ]
     },
     "metadata": {},
     "output_type": "display_data"
    },
    {
     "data": {
      "image/png": "[encoded data removed]",
      "text/plain": [
       "<IPython.core.display.Image object>"
      ]
     },
     "metadata": {},
     "output_type": "display_data"
    }
   ],
   "source": [
    "time_df.plot.barh()\n",
    "%matplot plt"
   ]
  },
  {
   "cell_type": "code",
   "execution_count": 99,
   "metadata": {},
   "outputs": [
    {
     "data": {
      "application/vnd.jupyter.widget-view+json": {
       "model_id": "925da66141954662beb4a3805bb2c862",
       "version_major": 2,
       "version_minor": 0
      },
      "text/plain": [
       "VBox()"
      ]
     },
     "metadata": {},
     "output_type": "display_data"
    },
    {
     "data": {
      "application/vnd.jupyter.widget-view+json": {
       "model_id": "",
       "version_major": 2,
       "version_minor": 0
      },
      "text/plain": [
       "FloatProgress(value=0.0, bar_style='info', description='Progress:', layout=Layout(height='25px', width='50%'),…"
      ]
     },
     "metadata": {},
     "output_type": "display_data"
    },
    {
     "data": {
      "image/png": "[encoded data removed]",
      "text/plain": [
       "<IPython.core.display.Image object>"
      ]
     },
     "metadata": {},
     "output_type": "display_data"
    }
   ],
   "source": [
    "speedup_df.plot.barh()\n",
    "%matplot plt"
   ]
  },
  {
   "cell_type": "code",
   "execution_count": 100,
   "metadata": {},
   "outputs": [
    {
     "data": {
      "application/vnd.jupyter.widget-view+json": {
       "model_id": "4397e112f5204b1b91878b2d158acc47",
       "version_major": 2,
       "version_minor": 0
      },
      "text/plain": [
       "VBox()"
      ]
     },
     "metadata": {},
     "output_type": "display_data"
    },
    {
     "data": {
      "application/vnd.jupyter.widget-view+json": {
       "model_id": "",
       "version_major": 2,
       "version_minor": 0
      },
      "text/plain": [
       "FloatProgress(value=0.0, bar_style='info', description='Progress:', layout=Layout(height='25px', width='50%'),…"
      ]
     },
     "metadata": {},
     "output_type": "display_data"
    },
    {
     "data": {
      "image/png": "[encoded data removed]",
      "text/plain": [
       "<IPython.core.display.Image object>"
      ]
     },
     "metadata": {},
     "output_type": "display_data"
    }
   ],
   "source": [
    "efficiency_df.plot.barh()\n",
    "%matplot plt"
   ]
  },
  {
   "cell_type": "markdown",
   "metadata": {},
   "source": [
    "### 6. Proszę wykonać przykładowe zapytanie dla danych z całego roku 2019. Załączyć wybrane wykresy ze Spark UI (https://spark.apache.org/docs/latest/web-ui.html), np. DAG, diagram Gantta, informacje o rozmiarach danych."
   ]
  },
  {
   "cell_type": "code",
   "execution_count": 88,
   "metadata": {},
   "outputs": [
    {
     "data": {
      "application/vnd.jupyter.widget-view+json": {
       "model_id": "11e0dce35dbe48eaafc352ccd84ff508",
       "version_major": 2,
       "version_minor": 0
      },
      "text/plain": [
       "VBox()"
      ]
     },
     "metadata": {},
     "output_type": "display_data"
    },
    {
     "data": {
      "application/vnd.jupyter.widget-view+json": {
       "model_id": "",
       "version_major": 2,
       "version_minor": 0
      },
      "text/plain": [
       "FloatProgress(value=0.0, bar_style='info', description='Progress:', layout=Layout(height='25px', width='50%'),…"
      ]
     },
     "metadata": {},
     "output_type": "display_data"
    }
   ],
   "source": [
    "smog_year_df = spark.read.json(\"s3a://openaq-fetches/realtime/2019*\")"
   ]
  },
  {
   "cell_type": "code",
   "execution_count": 89,
   "metadata": {},
   "outputs": [
    {
     "data": {
      "application/vnd.jupyter.widget-view+json": {
       "model_id": "dc8313295d384c6e8356427a95b87d50",
       "version_major": 2,
       "version_minor": 0
      },
      "text/plain": [
       "VBox()"
      ]
     },
     "metadata": {},
     "output_type": "display_data"
    },
    {
     "data": {
      "application/vnd.jupyter.widget-view+json": {
       "model_id": "",
       "version_major": 2,
       "version_minor": 0
      },
      "text/plain": [
       "FloatProgress(value=0.0, bar_style='info', description='Progress:', layout=Layout(height='25px', width='50%'),…"
      ]
     },
     "metadata": {},
     "output_type": "display_data"
    },
    {
     "name": "stdout",
     "output_type": "stream",
     "text": [
      "Row(city='Gorzów Wielkopolski', max smog=382.798)"
     ]
    }
   ],
   "source": [
    "smog_year_min_df = smog_year_df \\\n",
    "    .select(col(\"parameter\"), col(\"value\")) \\\n",
    "    .filter((col(\"country\") == \"PL\")) \\\n",
    "    .groupBy(col(\"parameter\")) \\\n",
    "    .agg(sum(col(\"value\")).alias(\"min smog\")) \\\n",
    "    .sort(col(\"min smog\").asc()) \\\n",
    "    .first()\n",
    "\n",
    "smog_year_df \\\n",
    "    .select(col(\"city\"), col(\"value\")) \\\n",
    "    .filter((col(\"country\") == \"PL\") & (col(\"parameter\") == smog_year_min_df.parameter)) \\\n",
    "    .groupBy(col(\"city\")) \\\n",
    "    .agg(max(col(\"value\")).alias(\"max smog\")) \\\n",
    "    .sort(col(\"max smog\").desc()) \\\n",
    "    .first()"
   ]
  },
  {
   "cell_type": "markdown",
   "metadata": {},
   "source": [
    "Wybrane wykresy dla powyższego zapytania rozbitego na 2 zadania - odszukanie zanieczyszczenia z najmniejszym zużyciem oraz odnalezienie miasta z największym jego zużyciem:\n",
    "\n",
    "![title](ADZD_L3_1_PMendroch.png)\n",
    "![title](ADZD_L3_2_PMendroch.png)"
   ]
  }
 ],
 "metadata": {
  "kernelspec": {
   "display_name": "PySpark",
   "language": "",
   "name": "pysparkkernel"
  },
  "language_info": {
   "codemirror_mode": {
    "name": "python",
    "version": 2
   },
   "mimetype": "text/x-python",
   "name": "pyspark",
   "pygments_lexer": "python2"
  }
 },
 "nbformat": 4,
 "nbformat_minor": 4
}
