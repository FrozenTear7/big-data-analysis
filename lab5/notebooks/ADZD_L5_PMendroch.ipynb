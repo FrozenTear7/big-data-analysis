{
 "cells": [
  {
   "cell_type": "markdown",
   "metadata": {},
   "source": [
    "# ADZD Lab 5 - GraphX\n",
    "\n",
    "## Autor: Paweł Mendroch"
   ]
  },
  {
   "cell_type": "markdown",
   "metadata": {},
   "source": [
    "### Setup"
   ]
  },
  {
   "cell_type": "code",
   "execution_count": 1,
   "metadata": {},
   "outputs": [
    {
     "data": {
      "text/plain": [
       "Intitializing Scala interpreter ..."
      ]
     },
     "metadata": {},
     "output_type": "display_data"
    },
    {
     "data": {
      "text/plain": [
       "Spark Web UI available at http://2bafd12e9dbe:4040\n",
       "SparkContext available as 'sc' (version = 3.0.1, master = local[*], app id = local-1607797011225)\n",
       "SparkSession available as 'spark'\n"
      ]
     },
     "metadata": {},
     "output_type": "display_data"
    },
    {
     "data": {
      "text/plain": [
       "import org.apache.spark.graphx._\n",
       "import org.apache.spark.rdd.RDD\n",
       "import org.apache.spark.sql.SQLContext\n"
      ]
     },
     "execution_count": 1,
     "metadata": {},
     "output_type": "execute_result"
    }
   ],
   "source": [
    "import org.apache.spark.graphx._\n",
    "import org.apache.spark.rdd.RDD"
   ]
  },
  {
   "cell_type": "markdown",
   "metadata": {},
   "source": [
    "### 1. Wczytać graf GitHub, krawędzie z pliku musae_git_edges.csv, atrybuty name oraz ml_target z pliku musae_git_target.csv.  Policzyć liczbę krawędzi i wierzchołków. (1 p.)"
   ]
  },
  {
   "cell_type": "code",
   "execution_count": 2,
   "metadata": {},
   "outputs": [
    {
     "data": {
      "text/plain": [
       "musaeGitEdgesFile: org.apache.spark.rdd.RDD[String] = ./musae_git_edges.csv MapPartitionsRDD[1] at textFile at <console>:30\n",
       "musaeGitTargetFile: org.apache.spark.rdd.RDD[String] = ./musae_git_target.csv MapPartitionsRDD[3] at textFile at <console>:31\n"
      ]
     },
     "execution_count": 2,
     "metadata": {},
     "output_type": "execute_result"
    }
   ],
   "source": [
    "val musaeGitEdgesFile = sc.textFile(\"./musae_git_edges.csv\")\n",
    "val musaeGitTargetFile = sc.textFile(\"./musae_git_target.csv\")"
   ]
  },
  {
   "cell_type": "code",
   "execution_count": 3,
   "metadata": {},
   "outputs": [
    {
     "data": {
      "text/plain": [
       "musaeGitEdges: org.apache.spark.rdd.RDD[org.apache.spark.graphx.Edge[Int]] = MapPartitionsRDD[4] at map at <console>:32\n",
       "musaeGitVertices: org.apache.spark.rdd.RDD[(org.apache.spark.graphx.VertexId, (String, Int))] = MapPartitionsRDD[5] at map at <console>:37\n"
      ]
     },
     "execution_count": 3,
     "metadata": {},
     "output_type": "execute_result"
    }
   ],
   "source": [
    "val musaeGitEdges: RDD[Edge[Int]] = musaeGitEdgesFile.map(line=>{\n",
    "    val lineSplit = line.split(\",\")\n",
    "    Edge(lineSplit(0).toLong, lineSplit(1).toLong, 1)\n",
    "})\n",
    "\n",
    "val musaeGitVertices: RDD[(VertexId, (String, Int))] = musaeGitTargetFile.map(line=>{\n",
    "    val lineSplit = line.split(\",\")\n",
    "    (lineSplit(0).toLong, (lineSplit(1).toString, lineSplit(2).toInt))\n",
    "})"
   ]
  },
  {
   "cell_type": "code",
   "execution_count": 4,
   "metadata": {},
   "outputs": [
    {
     "data": {
      "text/plain": [
       "musaeGitGraph: org.apache.spark.graphx.Graph[(String, Int),Int] = org.apache.spark.graphx.impl.GraphImpl@3e80b386\n",
       "res0: org.apache.spark.graphx.Graph[(String, Int),Int] = org.apache.spark.graphx.impl.GraphImpl@3e80b386\n"
      ]
     },
     "execution_count": 4,
     "metadata": {},
     "output_type": "execute_result"
    }
   ],
   "source": [
    "val musaeGitGraph = Graph(musaeGitVertices, musaeGitEdges)\n",
    "musaeGitGraph.cache()"
   ]
  },
  {
   "cell_type": "code",
   "execution_count": 5,
   "metadata": {},
   "outputs": [
    {
     "data": {
      "text/plain": [
       "res1: Array[(org.apache.spark.graphx.VertexId, (String, Int))] = Array((18624,(Tarrasch,1)), (32196,(dibosh,0)), (32432,(michael-hartmann,1)), (7608,(runelaenen,0)), (9166,(ondrejsika,0)), (18500,(bsmith125,0)), (23556,(Setsun,0)), (26742,(aditbiswas1,1)), (13298,(caiobsouza,0)), (14882,(syborg91,1)), (23776,(eroispaziali,0)), (28730,(aakashlpin,0)), (13278,(klishevich,0)), (5618,(JackyCSer,0)), (26158,(adamdevigili,1)), (29856,(ntourne,0)), (5354,(cbarcenas,0)), (15392,(ZAYEC77,0)), (4926,(dustinmoorman,0)), (32676,(sasha0,0)), (25150,(DZG-MELODY,0)), (29270,(advaitsave,1)), (32170,(marcelvoss,0)), (5384,(78ij,1)), (11852,(JeroenReumkens,0)), (19492,(JJZHK,1)), (8390,(diegonvs,0)), (19722,(alexzerah,0)), (4992,(eirslett,0)), (13310,(jasonwyatt,1)), (20894,(fakyras,1)), (19692,(agaskell...\n"
      ]
     },
     "execution_count": 5,
     "metadata": {},
     "output_type": "execute_result"
    }
   ],
   "source": [
    "musaeGitGraph.vertices.collect"
   ]
  },
  {
   "cell_type": "code",
   "execution_count": 6,
   "metadata": {},
   "outputs": [
    {
     "data": {
      "text/plain": [
       "res2: Array[org.apache.spark.graphx.Edge[Int]] = Array(Edge(0,23977,1), Edge(1,2370,1), Edge(1,14683,1), Edge(1,20363,1), Edge(1,21142,1), Edge(1,23830,1), Edge(1,29982,1), Edge(1,34035,1), Edge(1,34526,1), Edge(2,3812,1), Edge(3,3358,1), Edge(3,4950,1), Edge(3,5916,1), Edge(3,18029,1), Edge(3,34935,1), Edge(4,2865,1), Edge(4,9342,1), Edge(5,27803,1), Edge(6,17647,1), Edge(6,18562,1), Edge(6,18612,1), Edge(6,18876,1), Edge(6,27803,1), Edge(6,31890,1), Edge(7,9051,1), Edge(7,11273,1), Edge(7,12775,1), Edge(7,21864,1), Edge(7,30199,1), Edge(7,33643,1), Edge(7,35773,1), Edge(7,37493,1), Edge(8,4793,1), Edge(8,10080,1), Edge(8,11083,1), Edge(8,14003,1), Edge(8,19253,1), Edge(8,23973,1), Edge(8,27803,1), Edge(8,36652,1), Edge(9,15477,1), Edge(9,19407,1), Edge(9,23914,1), Edge(9,27768,1), Edg...\n"
      ]
     },
     "execution_count": 6,
     "metadata": {},
     "output_type": "execute_result"
    }
   ],
   "source": [
    "musaeGitGraph.edges.collect"
   ]
  },
  {
   "cell_type": "code",
   "execution_count": 7,
   "metadata": {},
   "outputs": [
    {
     "data": {
      "text/plain": [
       "res3: Array[org.apache.spark.graphx.EdgeTriplet[(String, Int),Int]] = Array(((0,(Eiryyy,0)),(23977,(airtoxin,0)),1), ((1,(shawflying,0)),(2370,(jasondu,0)),1), ((1,(shawflying,0)),(14683,(chaoslawful,0)),1), ((1,(shawflying,0)),(20363,(atian25,0)),1), ((1,(shawflying,0)),(21142,(fengmk2,0)),1), ((1,(shawflying,0)),(23830,(778477,0)),1), ((1,(shawflying,0)),(29982,(dead-horse,0)),1), ((1,(shawflying,0)),(34035,(iceopen,0)),1), ((1,(shawflying,0)),(34526,(ghosind,0)),1), ((2,(JpMCarrilho,1)),(3812,(khaosdoctor,0)),1), ((3,(SuhwanCha,0)),(3358,(ISKU,0)),1), ((3,(SuhwanCha,0)),(4950,(YuHyun7,1)),1), ((3,(SuhwanCha,0)),(5916,(IJEMIN,1)),1), ((3,(SuhwanCha,0)),(18029,(graykode,1)),1), ((3,(SuhwanCha,0)),(34935,(amacgregor,0)),1), ((4,(sunilangadi2,1)),(2865,(mshahriarinia,0)),1), ((4,(sunilan...\n"
      ]
     },
     "execution_count": 7,
     "metadata": {},
     "output_type": "execute_result"
    }
   ],
   "source": [
    "musaeGitGraph.triplets.collect"
   ]
  },
  {
   "cell_type": "code",
   "execution_count": 9,
   "metadata": {},
   "outputs": [
    {
     "data": {
      "text/plain": [
       "res5: Long = 37700\n"
      ]
     },
     "execution_count": 9,
     "metadata": {},
     "output_type": "execute_result"
    }
   ],
   "source": [
    "musaeGitGraph.numVertices"
   ]
  },
  {
   "cell_type": "code",
   "execution_count": 10,
   "metadata": {},
   "outputs": [
    {
     "data": {
      "text/plain": [
       "res6: Long = 289003\n"
      ]
     },
     "execution_count": 10,
     "metadata": {},
     "output_type": "execute_result"
    }
   ],
   "source": [
    "musaeGitGraph.numEdges"
   ]
  },
  {
   "cell_type": "markdown",
   "metadata": {},
   "source": [
    "### 2. Sprawdzić czy graf jest spójny. Czy obydwa podgrafy utworzone na podstawie atrybutu ml_target też są spójne? (1 p.)"
   ]
  },
  {
   "cell_type": "markdown",
   "metadata": {},
   "source": [
    "#### Cały graf"
   ]
  },
  {
   "cell_type": "code",
   "execution_count": 99,
   "metadata": {},
   "outputs": [
    {
     "data": {
      "text/plain": [
       "initialGraph: org.apache.spark.graphx.Graph[Boolean,Int] = org.apache.spark.graphx.impl.GraphImpl@ced3732\n",
       "res44: Long = 1\n"
      ]
     },
     "execution_count": 99,
     "metadata": {},
     "output_type": "execute_result"
    }
   ],
   "source": [
    "val initialGraph: Graph[Boolean, Int] = musaeGitGraph.mapVertices((id, _) => id == sourceId)\n",
    "\n",
    "initialGraph.connectedComponents()\n",
    "    .vertices\n",
    "    .groupBy(x => x._2)\n",
    "    .mapValues(_.size)\n",
    "    .count"
   ]
  },
  {
   "cell_type": "markdown",
   "metadata": {},
   "source": [
    "#### Ml_target = 0"
   ]
  },
  {
   "cell_type": "code",
   "execution_count": 100,
   "metadata": {},
   "outputs": [
    {
     "data": {
      "text/plain": [
       "initialGraph: org.apache.spark.graphx.Graph[Boolean,Int] = org.apache.spark.graphx.impl.GraphImpl@5619859a\n",
       "res45: Long = 297\n"
      ]
     },
     "execution_count": 100,
     "metadata": {},
     "output_type": "execute_result"
    }
   ],
   "source": [
    "val initialGraph: Graph[Boolean, Int] = musaeGitGraph\n",
    "    .subgraph(vpred = (id, attr) => attr._2 == 0)\n",
    "    .mapVertices((id, _) => id == sourceId)\n",
    "\n",
    "initialGraph.connectedComponents()\n",
    "    .vertices\n",
    "    .groupBy(x => x._2)\n",
    "    .mapValues(_.size)\n",
    "    .count"
   ]
  },
  {
   "cell_type": "markdown",
   "metadata": {},
   "source": [
    "#### Ml_target = 1"
   ]
  },
  {
   "cell_type": "code",
   "execution_count": 102,
   "metadata": {},
   "outputs": [
    {
     "data": {
      "text/plain": [
       "initialGraph: org.apache.spark.graphx.Graph[Boolean,Int] = org.apache.spark.graphx.impl.GraphImpl@76e62a2f\n",
       "res47: Long = 2466\n"
      ]
     },
     "execution_count": 102,
     "metadata": {},
     "output_type": "execute_result"
    }
   ],
   "source": [
    "val initialGraph: Graph[Boolean, Int] = musaeGitGraph\n",
    "    .subgraph(vpred = (_, attr) => attr._2 == 1)\n",
    "    .mapVertices((id, _) => id == sourceId)\n",
    "\n",
    "initialGraph.connectedComponents()\n",
    "    .vertices\n",
    "    .groupBy(x => x._2)\n",
    "    .mapValues(_.size)\n",
    "    .count"
   ]
  },
  {
   "cell_type": "markdown",
   "metadata": {},
   "source": [
    "### 3. Spośród 1000 uzytkownikow o najwyzszym PageRank wybrac tych, ktorzy maja najmniej połączeń. Narysować wykres zależności PageRank od liczby krawędzi dla wierzchołków (scatter plot) (2 p.)"
   ]
  },
  {
   "cell_type": "code",
   "execution_count": 147,
   "metadata": {},
   "outputs": [
    {
     "data": {
      "text/plain": [
       "musaeGitRanks: org.apache.spark.sql.DataFrame = [id: bigint, rank: double]\n"
      ]
     },
     "execution_count": 147,
     "metadata": {},
     "output_type": "execute_result"
    }
   ],
   "source": [
    "val musaeGitRanks = musaeGitGraph.pageRank(0.0001)\n",
    "    .vertices\n",
    "    .sortBy(x => x._2, ascending=false)\n",
    "    .toDF()\n",
    "    .limit(1000)\n",
    "    .withColumnRenamed(\"_1\", \"id\")\n",
    "    .withColumnRenamed(\"_2\", \"rank\")"
   ]
  },
  {
   "cell_type": "code",
   "execution_count": 148,
   "metadata": {},
   "outputs": [
    {
     "data": {
      "text/plain": [
       "musaeGitDegrees: org.apache.spark.sql.DataFrame = [id: bigint, degree: int]\n"
      ]
     },
     "execution_count": 148,
     "metadata": {},
     "output_type": "execute_result"
    }
   ],
   "source": [
    "val musaeGitDegrees = musaeGitGraph.degrees\n",
    "    .toDF()\n",
    "    .withColumnRenamed(\"_1\", \"id\")\n",
    "    .withColumnRenamed(\"_2\", \"degree\")"
   ]
  },
  {
   "cell_type": "code",
   "execution_count": 161,
   "metadata": {},
   "outputs": [
    {
     "data": {
      "text/plain": [
       "res84: Array[org.apache.spark.sql.Row] = Array([37431,1,38.786593154204716], [37569,1,10.500941779048508], [37485,1,10.03567774057338], [34303,1,7.702710782518515], [34623,1,7.702710782518515], [37460,2,39.12987344693455], [37393,2,22.96049311516953], [37696,2,17.894213776552633], [37558,2,15.935382283337052], [37361,2,7.920481460248552])\n"
      ]
     },
     "execution_count": 161,
     "metadata": {},
     "output_type": "execute_result"
    }
   ],
   "source": [
    "musaeGitDegrees.join(musaeGitRanks, \"id\")\n",
    "    .sort($\"degree\", $\"rank\".desc)\n",
    "    .take(10)"
   ]
  },
  {
   "cell_type": "markdown",
   "metadata": {},
   "source": [
    "### 4. Korzystając z Pregel API zaimplementować następujący algorytm. W pierwszym kroku wybrany użytkownik 1 wysyła wiadomosc do wszystkich swoich kontaktów. W kolejnych krokach każdy przekazuje tę wiadomość dalej do wszystkich swoich kontaktów. Pokazać jak zmienia się liczba użytkowników do których dotarła wiadomość w zależności od liczby kroków. (2 p.)"
   ]
  },
  {
   "cell_type": "code",
   "execution_count": null,
   "metadata": {},
   "outputs": [],
   "source": []
  },
  {
   "cell_type": "markdown",
   "metadata": {},
   "source": [
    "### 5. Narysować wykres rozkładu stopnia wierzchołków w grafie w skali logarytmicznej. Można skorzystać z funkcji obliczającej histogram dla RDD. Czy sieć jest bezskalowa (scale-free)? https://barabasi.com/f/623.pdf (2 p.)"
   ]
  },
  {
   "cell_type": "code",
   "execution_count": null,
   "metadata": {},
   "outputs": [],
   "source": []
  }
 ],
 "metadata": {
  "kernelspec": {
   "display_name": "spylon-kernel",
   "language": "scala",
   "name": "spylon-kernel"
  },
  "language_info": {
   "codemirror_mode": "text/x-scala",
   "file_extension": ".scala",
   "help_links": [
    {
     "text": "MetaKernel Magics",
     "url": "https://metakernel.readthedocs.io/en/latest/source/README.html"
    }
   ],
   "mimetype": "text/x-scala",
   "name": "scala",
   "pygments_lexer": "scala",
   "version": "0.4.1"
  }
 },
 "nbformat": 4,
 "nbformat_minor": 4
}
