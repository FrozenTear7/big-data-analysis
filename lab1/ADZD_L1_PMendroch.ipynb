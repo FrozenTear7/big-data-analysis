{
  "nbformat": 4,
  "nbformat_minor": 0,
  "metadata": {
    "colab": {
      "name": "ADZD_L1_PMendroch.ipynb",
      "provenance": [],
      "collapsed_sections": [
        "fIeFsAdQ0SFD",
        "552xFa3Q0UTX"
      ]
    },
    "kernelspec": {
      "name": "python3",
      "display_name": "Python 3"
    }
  },
  "cells": [
    {
      "cell_type": "markdown",
      "metadata": {
        "id": "K924Ftvuhch7"
      },
      "source": [
        "# Introduction to Apache Spark Resilient Distributed Datasets (RDD)\n",
        "## Autor: Paweł Mendroch"
      ]
    },
    {
      "cell_type": "markdown",
      "metadata": {
        "id": "o_oylBZts93m"
      },
      "source": [
        "### Inicjalizacja Sparka"
      ]
    },
    {
      "cell_type": "code",
      "metadata": {
        "id": "B9jUzck3tKI-",
        "outputId": "1e993439-9885-468f-b898-81d4b9972872",
        "colab": {
          "base_uri": "https://localhost:8080/",
          "height": 51
        }
      },
      "source": [
        "!pip install pyspark"
      ],
      "execution_count": 1121,
      "outputs": [
        {
          "output_type": "stream",
          "text": [
            "Requirement already satisfied: pyspark in /usr/local/lib/python3.6/dist-packages (3.0.1)\n",
            "Requirement already satisfied: py4j==0.10.9 in /usr/local/lib/python3.6/dist-packages (from pyspark) (0.10.9)\n"
          ],
          "name": "stdout"
        }
      ]
    },
    {
      "cell_type": "code",
      "metadata": {
        "id": "RWqC5VpYtAF7"
      },
      "source": [
        "from pyspark.sql import SparkSession\n",
        "spark = SparkSession.builder.getOrCreate()"
      ],
      "execution_count": 1122,
      "outputs": []
    },
    {
      "cell_type": "code",
      "metadata": {
        "id": "NZBPOJqytCHf",
        "outputId": "c1f4be94-0aa0-49a6-ebfa-96b45786ff0c",
        "colab": {
          "base_uri": "https://localhost:8080/",
          "height": 216
        }
      },
      "source": [
        "spark"
      ],
      "execution_count": 1123,
      "outputs": [
        {
          "output_type": "execute_result",
          "data": {
            "text/html": [
              "\n",
              "            <div>\n",
              "                <p><b>SparkSession - in-memory</b></p>\n",
              "                \n",
              "        <div>\n",
              "            <p><b>SparkContext</b></p>\n",
              "\n",
              "            <p><a href=\"http://0625a9816077:4040\">Spark UI</a></p>\n",
              "\n",
              "            <dl>\n",
              "              <dt>Version</dt>\n",
              "                <dd><code>v3.0.1</code></dd>\n",
              "              <dt>Master</dt>\n",
              "                <dd><code>local[*]</code></dd>\n",
              "              <dt>AppName</dt>\n",
              "                <dd><code>pyspark-shell</code></dd>\n",
              "            </dl>\n",
              "        </div>\n",
              "        \n",
              "            </div>\n",
              "        "
            ],
            "text/plain": [
              "<pyspark.sql.session.SparkSession at 0x7fdf00d86d30>"
            ]
          },
          "metadata": {
            "tags": []
          },
          "execution_count": 1123
        }
      ]
    },
    {
      "cell_type": "code",
      "metadata": {
        "id": "zZIJzlbDtPMO"
      },
      "source": [
        "sc = spark.sparkContext"
      ],
      "execution_count": 1124,
      "outputs": []
    },
    {
      "cell_type": "markdown",
      "metadata": {
        "id": "ZPqT8PNquTxt"
      },
      "source": [
        "## Dane testowe"
      ]
    },
    {
      "cell_type": "code",
      "metadata": {
        "id": "ap_zIqOQuVRn",
        "outputId": "68f2c95b-6377-4066-c4ed-9f991fece7df",
        "colab": {
          "base_uri": "https://localhost:8080/",
          "height": 34
        }
      },
      "source": [
        "import urllib.request\n",
        "urllib.request.urlretrieve(\"http://raw.githubusercontent.com/elastic/examples/master/Common%20Data%20Formats/apache_logs/apache_logs\",\"apache_logs\")"
      ],
      "execution_count": 1125,
      "outputs": [
        {
          "output_type": "execute_result",
          "data": {
            "text/plain": [
              "('apache_logs', <http.client.HTTPMessage at 0x7fdef2602978>)"
            ]
          },
          "metadata": {
            "tags": []
          },
          "execution_count": 1125
        }
      ]
    },
    {
      "cell_type": "code",
      "metadata": {
        "id": "MmHp8Ia4uE4V"
      },
      "source": [
        "lines = sc.textFile(\"apache_logs\")"
      ],
      "execution_count": 1126,
      "outputs": []
    },
    {
      "cell_type": "markdown",
      "metadata": {
        "id": "3e9UiQaGtSAf"
      },
      "source": [
        "## Zadanie 1 - Narysować wykres rankingu przeglądarek na podstawie pola \"user agent\" (spróbować pogrupować podobne)"
      ]
    },
    {
      "cell_type": "code",
      "metadata": {
        "id": "4pFWLGcb0sYn"
      },
      "source": [
        "import re"
      ],
      "execution_count": 1127,
      "outputs": []
    },
    {
      "cell_type": "code",
      "metadata": {
        "id": "3sKUusFA4PbM"
      },
      "source": [
        "regex = '^([(\\d\\.)]+) - - (\\[.*\\]) (\\\"[^\\\"]*\\\") .+ .+ \\\"[^\\\"]*\\\" \\\"([^\\\"]{2,})\\\"?$'\n",
        "regex = re.compile(regex)"
      ],
      "execution_count": 1128,
      "outputs": []
    },
    {
      "cell_type": "markdown",
      "metadata": {
        "id": "FiuI-9PTbMEh"
      },
      "source": [
        "Najpierw wyciągam grupę trzecią, reprezentującą user-agent sekcję, następnie ucinam pierwszy znak is splituję po ' ', aby uzyskać listę agentów i wybieram pierwszy rekord."
      ]
    },
    {
      "cell_type": "code",
      "metadata": {
        "id": "Z1QqYcaZMcCS"
      },
      "source": [
        "def extractBrowser(s):\n",
        "  matches = re.findall(regex, s)\n",
        "\n",
        "  if len(matches) > 0:\n",
        "    # 4th group is the user-agent, then we split by ' ' and get the first agent\n",
        "    agent = matches[0][3].split(' ')[0]\n",
        "\n",
        "    if agent != '':\n",
        "      return (agent, 1)\n",
        "    else:\n",
        "      return ('Unknown', 1)\n",
        "  else:\n",
        "    return ('Unknown', 1)"
      ],
      "execution_count": 1129,
      "outputs": []
    },
    {
      "cell_type": "code",
      "metadata": {
        "id": "U5-AJFjR0vaX"
      },
      "source": [
        "userAgents = lines.map(extractBrowser)"
      ],
      "execution_count": 1130,
      "outputs": []
    },
    {
      "cell_type": "code",
      "metadata": {
        "id": "YGcxbB83L3KZ"
      },
      "source": [
        "userAgentsCount = userAgents.reduceByKey(lambda a, b: a + b)"
      ],
      "execution_count": 1131,
      "outputs": []
    },
    {
      "cell_type": "code",
      "metadata": {
        "id": "9LTBhBvJLvEH"
      },
      "source": [
        "topUserAgents = userAgentsCount.sortBy(lambda s: s[1], ascending=False).take(15)"
      ],
      "execution_count": 1132,
      "outputs": []
    },
    {
      "cell_type": "code",
      "metadata": {
        "id": "2zmKI1Nmtd4p"
      },
      "source": [
        "import pandas as pd\n",
        "pd.set_option('display.max_colwidth', None)"
      ],
      "execution_count": 1133,
      "outputs": []
    },
    {
      "cell_type": "code",
      "metadata": {
        "id": "XyLLxNkEt77R",
        "outputId": "70418022-969d-47cb-cb87-30d6a5f308c8",
        "colab": {
          "base_uri": "https://localhost:8080/",
          "height": 514
        }
      },
      "source": [
        "df = pd.DataFrame(topUserAgents, columns=['User-agent', 'Count'])\n",
        "df"
      ],
      "execution_count": 1134,
      "outputs": [
        {
          "output_type": "execute_result",
          "data": {
            "text/html": [
              "<div>\n",
              "<style scoped>\n",
              "    .dataframe tbody tr th:only-of-type {\n",
              "        vertical-align: middle;\n",
              "    }\n",
              "\n",
              "    .dataframe tbody tr th {\n",
              "        vertical-align: top;\n",
              "    }\n",
              "\n",
              "    .dataframe thead th {\n",
              "        text-align: right;\n",
              "    }\n",
              "</style>\n",
              "<table border=\"1\" class=\"dataframe\">\n",
              "  <thead>\n",
              "    <tr style=\"text-align: right;\">\n",
              "      <th></th>\n",
              "      <th>User-agent</th>\n",
              "      <th>Count</th>\n",
              "    </tr>\n",
              "  </thead>\n",
              "  <tbody>\n",
              "    <tr>\n",
              "      <th>0</th>\n",
              "      <td>Mozilla/5.0</td>\n",
              "      <td>8046</td>\n",
              "    </tr>\n",
              "    <tr>\n",
              "      <th>1</th>\n",
              "      <td>UniversalFeedParser/4.2-pre-314-svn</td>\n",
              "      <td>364</td>\n",
              "    </tr>\n",
              "    <tr>\n",
              "      <th>2</th>\n",
              "      <td>Mozilla/4.0</td>\n",
              "      <td>332</td>\n",
              "    </tr>\n",
              "    <tr>\n",
              "      <th>3</th>\n",
              "      <td>Tiny</td>\n",
              "      <td>198</td>\n",
              "    </tr>\n",
              "    <tr>\n",
              "      <th>4</th>\n",
              "      <td>Unknown</td>\n",
              "      <td>190</td>\n",
              "    </tr>\n",
              "    <tr>\n",
              "      <th>5</th>\n",
              "      <td>FeedBurner/1.0</td>\n",
              "      <td>108</td>\n",
              "    </tr>\n",
              "    <tr>\n",
              "      <th>6</th>\n",
              "      <td>Feedfetcher-Google;</td>\n",
              "      <td>102</td>\n",
              "    </tr>\n",
              "    <tr>\n",
              "      <th>7</th>\n",
              "      <td>msnbot/2.0b</td>\n",
              "      <td>96</td>\n",
              "    </tr>\n",
              "    <tr>\n",
              "      <th>8</th>\n",
              "      <td>Opera/9.80</td>\n",
              "      <td>85</td>\n",
              "    </tr>\n",
              "    <tr>\n",
              "      <th>9</th>\n",
              "      <td>Chef</td>\n",
              "      <td>61</td>\n",
              "    </tr>\n",
              "    <tr>\n",
              "      <th>10</th>\n",
              "      <td>Feedbin</td>\n",
              "      <td>50</td>\n",
              "    </tr>\n",
              "    <tr>\n",
              "      <th>11</th>\n",
              "      <td>Safari/9537.73.11</td>\n",
              "      <td>34</td>\n",
              "    </tr>\n",
              "    <tr>\n",
              "      <th>12</th>\n",
              "      <td>Twitterbot/1.0</td>\n",
              "      <td>28</td>\n",
              "    </tr>\n",
              "    <tr>\n",
              "      <th>13</th>\n",
              "      <td>msnbot-media/1.1</td>\n",
              "      <td>22</td>\n",
              "    </tr>\n",
              "    <tr>\n",
              "      <th>14</th>\n",
              "      <td>Digg</td>\n",
              "      <td>21</td>\n",
              "    </tr>\n",
              "  </tbody>\n",
              "</table>\n",
              "</div>"
            ],
            "text/plain": [
              "                             User-agent  Count\n",
              "0                           Mozilla/5.0   8046\n",
              "1   UniversalFeedParser/4.2-pre-314-svn    364\n",
              "2                           Mozilla/4.0    332\n",
              "3                                  Tiny    198\n",
              "4                               Unknown    190\n",
              "5                        FeedBurner/1.0    108\n",
              "6                   Feedfetcher-Google;    102\n",
              "7                           msnbot/2.0b     96\n",
              "8                            Opera/9.80     85\n",
              "9                                  Chef     61\n",
              "10                              Feedbin     50\n",
              "11                    Safari/9537.73.11     34\n",
              "12                       Twitterbot/1.0     28\n",
              "13                     msnbot-media/1.1     22\n",
              "14                                 Digg     21"
            ]
          },
          "metadata": {
            "tags": []
          },
          "execution_count": 1134
        }
      ]
    },
    {
      "cell_type": "code",
      "metadata": {
        "id": "WvyDwGED8H1N"
      },
      "source": [
        "import matplotlib.pyplot as plt"
      ],
      "execution_count": 1135,
      "outputs": []
    },
    {
      "cell_type": "code",
      "metadata": {
        "id": "9E8RwdfvWoFs",
        "outputId": "47eaebe1-9c70-4c87-865c-3693697f5731",
        "colab": {
          "base_uri": "https://localhost:8080/",
          "height": 282
        }
      },
      "source": [
        "df.plot.barh(x = 'User-agent')"
      ],
      "execution_count": 1136,
      "outputs": [
        {
          "output_type": "execute_result",
          "data": {
            "text/plain": [
              "<matplotlib.axes._subplots.AxesSubplot at 0x7fdef31ecef0>"
            ]
          },
          "metadata": {
            "tags": []
          },
          "execution_count": 1136
        },
        {
          "output_type": "display_data",
          "data": {
            "image/png": "[encoded data removed]",
            "text/plain": [
              "<Figure size 432x288 with 1 Axes>"
            ]
          },
          "metadata": {
            "tags": [],
            "needs_background": "light"
          }
        }
      ]
    },
    {
      "cell_type": "markdown",
      "metadata": {
        "id": "fIeFsAdQ0SFD"
      },
      "source": [
        "## Zadanie 2 - Narysować wykres liczby wywołań (request) w zależności od pory dnia (z dokładnością do godziny)"
      ]
    },
    {
      "cell_type": "code",
      "metadata": {
        "id": "OOsOB5aqbD2V"
      },
      "source": [
        "import re"
      ],
      "execution_count": 1175,
      "outputs": []
    },
    {
      "cell_type": "code",
      "metadata": {
        "id": "3TebUXQ2bEO9"
      },
      "source": [
        "regex = '^([(\\d\\.)]+) - - (\\[.*\\]) (\\\"[^\\\"]*\\\") .+ .+ \\\"[^\\\"]*\\\" \\\"([^\\\"]+)\\\"?$'\n",
        "regex = re.compile(regex)\n",
        "\n",
        "dateRegex = ':\\d+'\n",
        "dateRegex = re.compile(dateRegex)"
      ],
      "execution_count": 1249,
      "outputs": []
    },
    {
      "cell_type": "markdown",
      "metadata": {
        "id": "TKiDTQwDgNcH"
      },
      "source": [
        "Najpierw wyciągam sekcję zawierającą timestamp, potem wyciągam konkretną godzinę z daty."
      ]
    },
    {
      "cell_type": "code",
      "metadata": {
        "id": "DruAp8q7bKgt"
      },
      "source": [
        "def extractHour(s):\n",
        "  matches = re.findall(regex, s)\n",
        "\n",
        "  if len(matches) > 0:\n",
        "    # 2nd group is the date section\n",
        "    date = matches[0][1]\n",
        "    # get the hour and trim the first character\n",
        "    hour = re.findall(dateRegex, s)[0][1:]\n",
        "\n",
        "    return (hour, 1)\n",
        "  else:\n",
        "    return ('Unknown', 1)"
      ],
      "execution_count": 1250,
      "outputs": []
    },
    {
      "cell_type": "code",
      "metadata": {
        "id": "COazgJbjc-SB"
      },
      "source": [
        "hours = lines.map(extractHour)"
      ],
      "execution_count": 1251,
      "outputs": []
    },
    {
      "cell_type": "code",
      "metadata": {
        "id": "nrWkmccEdE3Y"
      },
      "source": [
        "hoursCount = hours.reduceByKey(lambda a, b: a + b)"
      ],
      "execution_count": 1252,
      "outputs": []
    },
    {
      "cell_type": "code",
      "metadata": {
        "id": "XwUC5Q45dKdq"
      },
      "source": [
        "hoursCount = hoursCount.sortBy(lambda s: s[0], ascending=True).collect()"
      ],
      "execution_count": 1253,
      "outputs": []
    },
    {
      "cell_type": "code",
      "metadata": {
        "id": "RWYIgCr_dPIx"
      },
      "source": [
        "import pandas as pd\n",
        "pd.set_option('display.max_colwidth', None)"
      ],
      "execution_count": 1254,
      "outputs": []
    },
    {
      "cell_type": "code",
      "metadata": {
        "id": "9HJfUn-DdRg2",
        "outputId": "fb740efa-8de2-48e1-edea-bb528dfad32b",
        "colab": {
          "base_uri": "https://localhost:8080/",
          "height": 793
        }
      },
      "source": [
        "df = pd.DataFrame(hoursCount, columns=['Hour', 'Count'])\n",
        "df"
      ],
      "execution_count": 1255,
      "outputs": [
        {
          "output_type": "execute_result",
          "data": {
            "text/html": [
              "<div>\n",
              "<style scoped>\n",
              "    .dataframe tbody tr th:only-of-type {\n",
              "        vertical-align: middle;\n",
              "    }\n",
              "\n",
              "    .dataframe tbody tr th {\n",
              "        vertical-align: top;\n",
              "    }\n",
              "\n",
              "    .dataframe thead th {\n",
              "        text-align: right;\n",
              "    }\n",
              "</style>\n",
              "<table border=\"1\" class=\"dataframe\">\n",
              "  <thead>\n",
              "    <tr style=\"text-align: right;\">\n",
              "      <th></th>\n",
              "      <th>Hour</th>\n",
              "      <th>Count</th>\n",
              "    </tr>\n",
              "  </thead>\n",
              "  <tbody>\n",
              "    <tr>\n",
              "      <th>0</th>\n",
              "      <td>00</td>\n",
              "      <td>361</td>\n",
              "    </tr>\n",
              "    <tr>\n",
              "      <th>1</th>\n",
              "      <td>01</td>\n",
              "      <td>360</td>\n",
              "    </tr>\n",
              "    <tr>\n",
              "      <th>2</th>\n",
              "      <td>02</td>\n",
              "      <td>365</td>\n",
              "    </tr>\n",
              "    <tr>\n",
              "      <th>3</th>\n",
              "      <td>03</td>\n",
              "      <td>354</td>\n",
              "    </tr>\n",
              "    <tr>\n",
              "      <th>4</th>\n",
              "      <td>04</td>\n",
              "      <td>355</td>\n",
              "    </tr>\n",
              "    <tr>\n",
              "      <th>5</th>\n",
              "      <td>05</td>\n",
              "      <td>371</td>\n",
              "    </tr>\n",
              "    <tr>\n",
              "      <th>6</th>\n",
              "      <td>06</td>\n",
              "      <td>366</td>\n",
              "    </tr>\n",
              "    <tr>\n",
              "      <th>7</th>\n",
              "      <td>07</td>\n",
              "      <td>357</td>\n",
              "    </tr>\n",
              "    <tr>\n",
              "      <th>8</th>\n",
              "      <td>08</td>\n",
              "      <td>345</td>\n",
              "    </tr>\n",
              "    <tr>\n",
              "      <th>9</th>\n",
              "      <td>09</td>\n",
              "      <td>364</td>\n",
              "    </tr>\n",
              "    <tr>\n",
              "      <th>10</th>\n",
              "      <td>10</td>\n",
              "      <td>443</td>\n",
              "    </tr>\n",
              "    <tr>\n",
              "      <th>11</th>\n",
              "      <td>11</td>\n",
              "      <td>459</td>\n",
              "    </tr>\n",
              "    <tr>\n",
              "      <th>12</th>\n",
              "      <td>12</td>\n",
              "      <td>462</td>\n",
              "    </tr>\n",
              "    <tr>\n",
              "      <th>13</th>\n",
              "      <td>13</td>\n",
              "      <td>475</td>\n",
              "    </tr>\n",
              "    <tr>\n",
              "      <th>14</th>\n",
              "      <td>14</td>\n",
              "      <td>498</td>\n",
              "    </tr>\n",
              "    <tr>\n",
              "      <th>15</th>\n",
              "      <td>15</td>\n",
              "      <td>496</td>\n",
              "    </tr>\n",
              "    <tr>\n",
              "      <th>16</th>\n",
              "      <td>16</td>\n",
              "      <td>473</td>\n",
              "    </tr>\n",
              "    <tr>\n",
              "      <th>17</th>\n",
              "      <td>17</td>\n",
              "      <td>484</td>\n",
              "    </tr>\n",
              "    <tr>\n",
              "      <th>18</th>\n",
              "      <td>18</td>\n",
              "      <td>478</td>\n",
              "    </tr>\n",
              "    <tr>\n",
              "      <th>19</th>\n",
              "      <td>19</td>\n",
              "      <td>493</td>\n",
              "    </tr>\n",
              "    <tr>\n",
              "      <th>20</th>\n",
              "      <td>20</td>\n",
              "      <td>486</td>\n",
              "    </tr>\n",
              "    <tr>\n",
              "      <th>21</th>\n",
              "      <td>21</td>\n",
              "      <td>453</td>\n",
              "    </tr>\n",
              "    <tr>\n",
              "      <th>22</th>\n",
              "      <td>22</td>\n",
              "      <td>346</td>\n",
              "    </tr>\n",
              "    <tr>\n",
              "      <th>23</th>\n",
              "      <td>23</td>\n",
              "      <td>356</td>\n",
              "    </tr>\n",
              "  </tbody>\n",
              "</table>\n",
              "</div>"
            ],
            "text/plain": [
              "   Hour  Count\n",
              "0    00    361\n",
              "1    01    360\n",
              "2    02    365\n",
              "3    03    354\n",
              "4    04    355\n",
              "5    05    371\n",
              "6    06    366\n",
              "7    07    357\n",
              "8    08    345\n",
              "9    09    364\n",
              "10   10    443\n",
              "11   11    459\n",
              "12   12    462\n",
              "13   13    475\n",
              "14   14    498\n",
              "15   15    496\n",
              "16   16    473\n",
              "17   17    484\n",
              "18   18    478\n",
              "19   19    493\n",
              "20   20    486\n",
              "21   21    453\n",
              "22   22    346\n",
              "23   23    356"
            ]
          },
          "metadata": {
            "tags": []
          },
          "execution_count": 1255
        }
      ]
    },
    {
      "cell_type": "code",
      "metadata": {
        "id": "RZrKqznrfAAh"
      },
      "source": [
        "import matplotlib.pyplot as plt"
      ],
      "execution_count": 1256,
      "outputs": []
    },
    {
      "cell_type": "code",
      "metadata": {
        "id": "lberFfcLfCMb",
        "outputId": "009a7a11-04de-409d-aef7-e0ac189046de",
        "colab": {
          "base_uri": "https://localhost:8080/",
          "height": 282
        }
      },
      "source": [
        "df.plot.barh(x = 'Hour')"
      ],
      "execution_count": 1257,
      "outputs": [
        {
          "output_type": "execute_result",
          "data": {
            "text/plain": [
              "<matplotlib.axes._subplots.AxesSubplot at 0x7fdef18206d8>"
            ]
          },
          "metadata": {
            "tags": []
          },
          "execution_count": 1257
        },
        {
          "output_type": "display_data",
          "data": {
            "image/png": "[encoded data removed]",
            "text/plain": [
              "<Figure size 432x288 with 1 Axes>"
            ]
          },
          "metadata": {
            "tags": [],
            "needs_background": "light"
          }
        }
      ]
    },
    {
      "cell_type": "markdown",
      "metadata": {
        "id": "552xFa3Q0UTX"
      },
      "source": [
        "## Zadanie 3 - Narysować wykres rankingu popularności zasobów pobranych metodą HTTP GET"
      ]
    },
    {
      "cell_type": "code",
      "metadata": {
        "id": "zUbj-uNBfoFl"
      },
      "source": [
        "import re"
      ],
      "execution_count": 1258,
      "outputs": []
    },
    {
      "cell_type": "code",
      "metadata": {
        "id": "b_6EvPR_foFq"
      },
      "source": [
        "regex = '^([(\\d\\.)]+) - - (\\[.*\\]) (\\\"[^\\\"]*\\\") .+ .+ \\\"[^\\\"]*\\\" \\\"([^\\\"]{2,})\\\"?$'\n",
        "regex = re.compile(regex)"
      ],
      "execution_count": 1259,
      "outputs": []
    },
    {
      "cell_type": "markdown",
      "metadata": {
        "id": "49ve_4QHgyoR"
      },
      "source": [
        "Po przefiltrowaniu rekordów zawierających zapytanie typu GET, mogę wyciągnąć zasób z konkretnego zakresu znanków odfiltrowanego stringa."
      ]
    },
    {
      "cell_type": "code",
      "metadata": {
        "id": "Es4LBWECfoFs"
      },
      "source": [
        "def extractResource(s):\n",
        "  matches = re.findall(regex, s)\n",
        "\n",
        "  if len(matches) > 0:\n",
        "    # 3rd group is the resource section\n",
        "    resourceSection = matches[0][2]\n",
        "    resource = resourceSection[5:-9]\n",
        "\n",
        "    return (resource, 1)\n",
        "  else:\n",
        "    return ('Unknown', 1)"
      ],
      "execution_count": 1286,
      "outputs": []
    },
    {
      "cell_type": "code",
      "metadata": {
        "id": "VW7N_pMjfoFu"
      },
      "source": [
        "resources = lines.filter(lambda s: '] \"GET' in s).map(extractResource)"
      ],
      "execution_count": 1287,
      "outputs": []
    },
    {
      "cell_type": "code",
      "metadata": {
        "id": "HWMB5imIfoF0"
      },
      "source": [
        "resourcesCount = resources.reduceByKey(lambda a, b: a + b)"
      ],
      "execution_count": 1288,
      "outputs": []
    },
    {
      "cell_type": "code",
      "metadata": {
        "id": "bE7OFoQjfoF4"
      },
      "source": [
        "resourcesCount = resourcesCount.sortBy(lambda s: s[1], ascending=False).take(15)"
      ],
      "execution_count": 1289,
      "outputs": []
    },
    {
      "cell_type": "code",
      "metadata": {
        "id": "EEPaQeSYfoF6"
      },
      "source": [
        "import pandas as pd\n",
        "pd.set_option('display.max_colwidth', None)"
      ],
      "execution_count": 1290,
      "outputs": []
    },
    {
      "cell_type": "code",
      "metadata": {
        "id": "Y4edpQZefoF-",
        "outputId": "7df932d5-394d-4226-c098-8904aa00a01d",
        "colab": {
          "base_uri": "https://localhost:8080/",
          "height": 514
        }
      },
      "source": [
        "df = pd.DataFrame(resourcesCount, columns=['Resource', 'Count'])\n",
        "df"
      ],
      "execution_count": 1291,
      "outputs": [
        {
          "output_type": "execute_result",
          "data": {
            "text/html": [
              "<div>\n",
              "<style scoped>\n",
              "    .dataframe tbody tr th:only-of-type {\n",
              "        vertical-align: middle;\n",
              "    }\n",
              "\n",
              "    .dataframe tbody tr th {\n",
              "        vertical-align: top;\n",
              "    }\n",
              "\n",
              "    .dataframe thead th {\n",
              "        text-align: right;\n",
              "    }\n",
              "</style>\n",
              "<table border=\"1\" class=\"dataframe\">\n",
              "  <thead>\n",
              "    <tr style=\"text-align: right;\">\n",
              "      <th></th>\n",
              "      <th>Resource</th>\n",
              "      <th>Count</th>\n",
              "    </tr>\n",
              "  </thead>\n",
              "  <tbody>\n",
              "    <tr>\n",
              "      <th>0</th>\n",
              "      <td>/favicon.ico</td>\n",
              "      <td>797</td>\n",
              "    </tr>\n",
              "    <tr>\n",
              "      <th>1</th>\n",
              "      <td>/style2.css</td>\n",
              "      <td>541</td>\n",
              "    </tr>\n",
              "    <tr>\n",
              "      <th>2</th>\n",
              "      <td>/reset.css</td>\n",
              "      <td>533</td>\n",
              "    </tr>\n",
              "    <tr>\n",
              "      <th>3</th>\n",
              "      <td>/images/jordan-80.png</td>\n",
              "      <td>533</td>\n",
              "    </tr>\n",
              "    <tr>\n",
              "      <th>4</th>\n",
              "      <td>/images/web/2009/banner.png</td>\n",
              "      <td>516</td>\n",
              "    </tr>\n",
              "    <tr>\n",
              "      <th>5</th>\n",
              "      <td>/blog/tags/puppet?flav=rss20</td>\n",
              "      <td>488</td>\n",
              "    </tr>\n",
              "    <tr>\n",
              "      <th>6</th>\n",
              "      <td>/projects/xdotool/</td>\n",
              "      <td>214</td>\n",
              "    </tr>\n",
              "    <tr>\n",
              "      <th>7</th>\n",
              "      <td>/?flav=rss20</td>\n",
              "      <td>194</td>\n",
              "    </tr>\n",
              "    <tr>\n",
              "      <th>8</th>\n",
              "      <td>/</td>\n",
              "      <td>191</td>\n",
              "    </tr>\n",
              "    <tr>\n",
              "      <th>9</th>\n",
              "      <td>/robots.txt</td>\n",
              "      <td>180</td>\n",
              "    </tr>\n",
              "    <tr>\n",
              "      <th>10</th>\n",
              "      <td>Unknown</td>\n",
              "      <td>172</td>\n",
              "    </tr>\n",
              "    <tr>\n",
              "      <th>11</th>\n",
              "      <td>/projects/xdotool/xdotool.xhtml</td>\n",
              "      <td>153</td>\n",
              "    </tr>\n",
              "    <tr>\n",
              "      <th>12</th>\n",
              "      <td>/?flav=atom</td>\n",
              "      <td>137</td>\n",
              "    </tr>\n",
              "    <tr>\n",
              "      <th>13</th>\n",
              "      <td>/articles/dynamic-dns-with-dhcp/</td>\n",
              "      <td>133</td>\n",
              "    </tr>\n",
              "    <tr>\n",
              "      <th>14</th>\n",
              "      <td>/presentations/logstash-scale11x/images/ahhh___rage_face_by_samusmmx-d5g5zap.png</td>\n",
              "      <td>128</td>\n",
              "    </tr>\n",
              "  </tbody>\n",
              "</table>\n",
              "</div>"
            ],
            "text/plain": [
              "                                                                             Resource  Count\n",
              "0                                                                       /favicon.ico     797\n",
              "1                                                                        /style2.css     541\n",
              "2                                                                         /reset.css     533\n",
              "3                                                              /images/jordan-80.png     533\n",
              "4                                                        /images/web/2009/banner.png     516\n",
              "5                                                       /blog/tags/puppet?flav=rss20     488\n",
              "6                                                                 /projects/xdotool/     214\n",
              "7                                                                       /?flav=rss20     194\n",
              "8                                                                                  /     191\n",
              "9                                                                        /robots.txt     180\n",
              "10                                                                            Unknown    172\n",
              "11                                                   /projects/xdotool/xdotool.xhtml     153\n",
              "12                                                                       /?flav=atom     137\n",
              "13                                                  /articles/dynamic-dns-with-dhcp/     133\n",
              "14  /presentations/logstash-scale11x/images/ahhh___rage_face_by_samusmmx-d5g5zap.png     128"
            ]
          },
          "metadata": {
            "tags": []
          },
          "execution_count": 1291
        }
      ]
    },
    {
      "cell_type": "code",
      "metadata": {
        "id": "-LlZ-k6ufoGC"
      },
      "source": [
        "import matplotlib.pyplot as plt"
      ],
      "execution_count": 1292,
      "outputs": []
    },
    {
      "cell_type": "code",
      "metadata": {
        "id": "hOJ0DI7PfoGE",
        "outputId": "44fec11f-45e5-4bd2-a083-52085a086ce2",
        "colab": {
          "base_uri": "https://localhost:8080/",
          "height": 282
        }
      },
      "source": [
        "df.plot.barh(x = 'Resource')"
      ],
      "execution_count": 1293,
      "outputs": [
        {
          "output_type": "execute_result",
          "data": {
            "text/plain": [
              "<matplotlib.axes._subplots.AxesSubplot at 0x7fdef247c0f0>"
            ]
          },
          "metadata": {
            "tags": []
          },
          "execution_count": 1293
        },
        {
          "output_type": "display_data",
          "data": {
            "image/png": "[encoded data removed]",
            "text/plain": [
              "<Figure size 432x288 with 1 Axes>"
            ]
          },
          "metadata": {
            "tags": [],
            "needs_background": "light"
          }
        }
      ]
    },
    {
      "cell_type": "markdown",
      "metadata": {
        "id": "6P_B5XPV0dMg"
      },
      "source": [
        "## Zadanie 4 - Narysować wykres (pie chart) popularności systemów operacyjnych klienta"
      ]
    },
    {
      "cell_type": "code",
      "metadata": {
        "id": "sNeo3SZIkkEW"
      },
      "source": [
        "import re"
      ],
      "execution_count": 1294,
      "outputs": []
    },
    {
      "cell_type": "code",
      "metadata": {
        "id": "jsQHAZo1kkEk"
      },
      "source": [
        "regex = '^([(\\d\\.)]+) - - (\\[.*\\]) (\\\"[^\\\"]*\\\") .+ .+ \\\"[^\\\"]*\\\" \\\"([^\\\"]{2,})\\\"?$'\n",
        "regex = re.compile(regex)\n",
        "\n",
        "systemRegex = '\\([^(\\(|\\))]+\\)'\n",
        "systemRegex = re.compile(systemRegex)"
      ],
      "execution_count": 1295,
      "outputs": []
    },
    {
      "cell_type": "markdown",
      "metadata": {
        "id": "1DYCOShxkkEq"
      },
      "source": [
        "Podobnie jak przy szukaniu przeglądarek, po otrzymaniu grupy z agentami drugim regexem odczytuję dane z nawiasu zawierające system."
      ]
    },
    {
      "cell_type": "code",
      "metadata": {
        "id": "Fx-01Q55kkEr"
      },
      "source": [
        "def extractSystem(s):\n",
        "  matches = re.findall(regex, s)\n",
        "\n",
        "  if len(matches) > 0:\n",
        "    # 4th group is the user-agent, then we split by ' ' and extract the system from the first parentheses\n",
        "    systemGroup = matches[0][3]\n",
        "    matches = re.findall(systemRegex, systemGroup)\n",
        "    \n",
        "    if len(matches) > 0:\n",
        "      system = matches[0][1:-1]\n",
        "      return (system, 1)\n",
        "    else:\n",
        "      return ('Unknown', 1)\n",
        "  else:\n",
        "    return ('Unknown', 1)"
      ],
      "execution_count": 1312,
      "outputs": []
    },
    {
      "cell_type": "code",
      "metadata": {
        "id": "CKWwbrRXkkEw"
      },
      "source": [
        "systems = lines.map(extractSystem)"
      ],
      "execution_count": 1313,
      "outputs": []
    },
    {
      "cell_type": "code",
      "metadata": {
        "id": "xOH6CsCmkkEz"
      },
      "source": [
        "systemsCount = systems.reduceByKey(lambda a, b: a + b)"
      ],
      "execution_count": 1314,
      "outputs": []
    },
    {
      "cell_type": "code",
      "metadata": {
        "id": "psjFMohikkE6"
      },
      "source": [
        "topSystems = systemsCount.sortBy(lambda s: s[1], ascending=False).take(8)"
      ],
      "execution_count": 1315,
      "outputs": []
    },
    {
      "cell_type": "code",
      "metadata": {
        "id": "FlBGVli-kkE9"
      },
      "source": [
        "import pandas as pd\n",
        "pd.set_option('display.max_colwidth', None)"
      ],
      "execution_count": 1316,
      "outputs": []
    },
    {
      "cell_type": "code",
      "metadata": {
        "id": "xnyhmPqIkkFB",
        "outputId": "61bdaa80-c2bf-4163-cfb6-bd2792f0820c",
        "colab": {
          "base_uri": "https://localhost:8080/",
          "height": 297
        }
      },
      "source": [
        "df = pd.DataFrame(topSystems, columns=['System', 'Count'])\n",
        "df"
      ],
      "execution_count": 1317,
      "outputs": [
        {
          "output_type": "execute_result",
          "data": {
            "text/html": [
              "<div>\n",
              "<style scoped>\n",
              "    .dataframe tbody tr th:only-of-type {\n",
              "        vertical-align: middle;\n",
              "    }\n",
              "\n",
              "    .dataframe tbody tr th {\n",
              "        vertical-align: top;\n",
              "    }\n",
              "\n",
              "    .dataframe thead th {\n",
              "        text-align: right;\n",
              "    }\n",
              "</style>\n",
              "<table border=\"1\" class=\"dataframe\">\n",
              "  <thead>\n",
              "    <tr style=\"text-align: right;\">\n",
              "      <th></th>\n",
              "      <th>System</th>\n",
              "      <th>Count</th>\n",
              "    </tr>\n",
              "  </thead>\n",
              "  <tbody>\n",
              "    <tr>\n",
              "      <th>0</th>\n",
              "      <td>Windows NT 6.1; WOW64</td>\n",
              "      <td>1196</td>\n",
              "    </tr>\n",
              "    <tr>\n",
              "      <th>1</th>\n",
              "      <td>Unknown</td>\n",
              "      <td>724</td>\n",
              "    </tr>\n",
              "    <tr>\n",
              "      <th>2</th>\n",
              "      <td>Macintosh; Intel Mac OS X 10_9_1</td>\n",
              "      <td>692</td>\n",
              "    </tr>\n",
              "    <tr>\n",
              "      <th>3</th>\n",
              "      <td>X11; Linux x86_64</td>\n",
              "      <td>682</td>\n",
              "    </tr>\n",
              "    <tr>\n",
              "      <th>4</th>\n",
              "      <td>Windows NT 6.1; WOW64; rv:27.0</td>\n",
              "      <td>296</td>\n",
              "    </tr>\n",
              "    <tr>\n",
              "      <th>5</th>\n",
              "      <td>iPhone; CPU iPhone OS 6_0 like Mac OS X</td>\n",
              "      <td>273</td>\n",
              "    </tr>\n",
              "    <tr>\n",
              "      <th>6</th>\n",
              "      <td>compatible; Googlebot/2.1; +http://www.google.com/bot.html</td>\n",
              "      <td>237</td>\n",
              "    </tr>\n",
              "    <tr>\n",
              "      <th>7</th>\n",
              "      <td>X11; Ubuntu; Linux x86_64; rv:27.0</td>\n",
              "      <td>236</td>\n",
              "    </tr>\n",
              "  </tbody>\n",
              "</table>\n",
              "</div>"
            ],
            "text/plain": [
              "                                                       System  Count\n",
              "0                                       Windows NT 6.1; WOW64   1196\n",
              "1                                                     Unknown    724\n",
              "2                            Macintosh; Intel Mac OS X 10_9_1    692\n",
              "3                                           X11; Linux x86_64    682\n",
              "4                              Windows NT 6.1; WOW64; rv:27.0    296\n",
              "5                     iPhone; CPU iPhone OS 6_0 like Mac OS X    273\n",
              "6  compatible; Googlebot/2.1; +http://www.google.com/bot.html    237\n",
              "7                          X11; Ubuntu; Linux x86_64; rv:27.0    236"
            ]
          },
          "metadata": {
            "tags": []
          },
          "execution_count": 1317
        }
      ]
    },
    {
      "cell_type": "code",
      "metadata": {
        "id": "oMM69zTMkkFI"
      },
      "source": [
        "import matplotlib.pyplot as plt"
      ],
      "execution_count": 1318,
      "outputs": []
    },
    {
      "cell_type": "code",
      "metadata": {
        "id": "YlaJOEo6kkFN",
        "outputId": "d59903b4-60bc-4282-cfe9-19e8a8dedee7",
        "colab": {
          "base_uri": "https://localhost:8080/",
          "height": 255
        }
      },
      "source": [
        "labels = spark.sparkContext.parallelize(topSystems).map(lambda s: s[0]).collect()\n",
        "sizes = spark.sparkContext.parallelize(topSystems).map(lambda s: s[1]).collect()\n",
        "\n",
        "fig1, ax1 = plt.subplots()\n",
        "ax1.pie(sizes, labels=labels, autopct='%1.1f%%', startangle=90)\n",
        "ax1.axis('equal')\n",
        "\n",
        "plt.show()"
      ],
      "execution_count": 1319,
      "outputs": [
        {
          "output_type": "display_data",
          "data": {
            "image/png": "[encoded data removed]",
            "text/plain": [
              "<Figure size 432x288 with 1 Axes>"
            ]
          },
          "metadata": {
            "tags": []
          }
        }
      ]
    },
    {
      "cell_type": "markdown",
      "metadata": {
        "id": "qqeqgzT30eLE"
      },
      "source": [
        "## Zadanie 5 - Oszacować jaki procent ruchu generują boty"
      ]
    },
    {
      "cell_type": "code",
      "metadata": {
        "id": "PQXib554EVUP"
      },
      "source": [
        "import re"
      ],
      "execution_count": 1320,
      "outputs": []
    },
    {
      "cell_type": "code",
      "metadata": {
        "id": "3LnntncpEVUS"
      },
      "source": [
        "regex = '^([(\\d\\.)]+) - - (\\[.*\\]) (\\\"[^\\\"]*\\\") .+ .+ \\\"[^\\\"]*\\\" \\\"([^\\\"]{2,})\\\"?$'\n",
        "regex = re.compile(regex)\n",
        "\n",
        "systemRegex = '\\([^(\\(|\\))]+\\)'\n",
        "systemRegex = re.compile(systemRegex)"
      ],
      "execution_count": 1321,
      "outputs": []
    },
    {
      "cell_type": "markdown",
      "metadata": {
        "id": "53cpFaQvEVUU"
      },
      "source": [
        "Mój pomysł na znalezienie botów, to sprawdzenie czy w sekcji user-agent znajduje się substring `feed` lub `bot`, co jest prawdziwe przynajmniej dla najpopularniejszych botów."
      ]
    },
    {
      "cell_type": "code",
      "metadata": {
        "id": "fzKwaODQEVUU"
      },
      "source": [
        "def checkIfBot(s):\n",
        "  matches = re.findall(regex, s)\n",
        "\n",
        "  if len(matches) > 0:\n",
        "    # 4th group is the user-agent, we check if feed or bot substrings exist there\n",
        "    systemGroup = matches[0][3]\n",
        "    \n",
        "    if 'feed' in systemGroup or 'bot' in systemGroup:\n",
        "      return 1\n",
        "\n",
        "  return 0"
      ],
      "execution_count": 1322,
      "outputs": []
    },
    {
      "cell_type": "code",
      "metadata": {
        "id": "xNaPKkCIEVUZ"
      },
      "source": [
        "systems = lines.map(checkIfBot)"
      ],
      "execution_count": 1323,
      "outputs": []
    },
    {
      "cell_type": "code",
      "metadata": {
        "id": "tnNUJ6UDEVUb"
      },
      "source": [
        "botsCount = systems.reduce(lambda a, b: a + b)"
      ],
      "execution_count": 1324,
      "outputs": []
    },
    {
      "cell_type": "code",
      "metadata": {
        "id": "SdF1KsIELau7"
      },
      "source": [
        "usersCount = lines.count() - botsCount"
      ],
      "execution_count": 1325,
      "outputs": []
    },
    {
      "cell_type": "code",
      "metadata": {
        "id": "ylkHlArDEVUl"
      },
      "source": [
        "import matplotlib.pyplot as plt"
      ],
      "execution_count": 1326,
      "outputs": []
    },
    {
      "cell_type": "code",
      "metadata": {
        "id": "rrL4LW4uEVUp",
        "outputId": "5a3df362-8e5e-4708-ef26-7f6e7d58d76e",
        "colab": {
          "base_uri": "https://localhost:8080/",
          "height": 248
        }
      },
      "source": [
        "labels = ['Bots', 'Users']\n",
        "sizes = [botsCount, usersCount]\n",
        "\n",
        "fig1, ax1 = plt.subplots()\n",
        "ax1.pie(sizes, labels=labels, autopct='%1.1f%%', startangle=90)\n",
        "ax1.axis('equal')\n",
        "\n",
        "plt.show()"
      ],
      "execution_count": 1327,
      "outputs": [
        {
          "output_type": "display_data",
          "data": {
            "image/png": "[encoded data removed]",
            "text/plain": [
              "<Figure size 432x288 with 1 Axes>"
            ]
          },
          "metadata": {
            "tags": []
          }
        }
      ]
    }
  ]
}